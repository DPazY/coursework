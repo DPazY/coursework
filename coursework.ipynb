{
 "cells": [
  {
   "cell_type": "code",
   "execution_count": 1,
   "id": "b1f08d12-4bf8-42bc-ae6a-59d115af2a89",
   "metadata": {},
   "outputs": [],
   "source": [
    "from mordred import Calculator, descriptors\n",
    "import pandas as pd\n",
    "import seaborn as sns\n",
    "import matplotlib.pyplot as plt\n",
    "from rdkit import Chem\n",
    "import rdkit\n",
    "from rdkit.Chem import Descriptors"
   ]
  },
  {
   "cell_type": "code",
   "execution_count": 9,
   "id": "c13667cb-2fff-49fd-8c99-9dc2b3252022",
   "metadata": {
    "scrolled": true
   },
   "outputs": [
    {
     "name": "stdout",
     "output_type": "stream",
     "text": [
      "Типы данных в столбцах:\n",
      "Unnamed: 0     int64\n",
      "Drug_ID        int64\n",
      "Drug          object\n",
      "Y              int64\n",
      "property       int64\n",
      "dtype: object\n"
     ]
    },
    {
     "name": "stderr",
     "output_type": "stream",
     "text": [
      "[23:32:44] WARNING: not removing hydrogen atom without neighbors\n",
      "[23:32:44] WARNING: not removing hydrogen atom without neighbors\n",
      "[23:32:44] WARNING: not removing hydrogen atom without neighbors\n",
      "[23:32:44] WARNING: not removing hydrogen atom without neighbors\n",
      "[23:32:44] WARNING: not removing hydrogen atom without neighbors\n",
      "[23:32:44] WARNING: not removing hydrogen atom without neighbors\n",
      "[23:32:44] WARNING: not removing hydrogen atom without neighbors\n",
      "[23:32:44] WARNING: not removing hydrogen atom without neighbors\n",
      "[23:32:44] WARNING: not removing hydrogen atom without neighbors\n",
      "[23:32:44] WARNING: not removing hydrogen atom without neighbors\n",
      "[23:32:44] WARNING: not removing hydrogen atom without neighbors\n",
      "[23:32:45] WARNING: not removing hydrogen atom without neighbors\n",
      "[23:32:45] WARNING: not removing hydrogen atom without neighbors\n",
      "[23:32:45] WARNING: not removing hydrogen atom without neighbors\n",
      "[23:32:45] WARNING: not removing hydrogen atom without neighbors\n",
      "[23:32:45] WARNING: not removing hydrogen atom without neighbors\n",
      "[23:32:45] WARNING: not removing hydrogen atom without neighbors\n",
      "[23:32:45] WARNING: not removing hydrogen atom without neighbors\n",
      "[23:32:45] WARNING: not removing hydrogen atom without neighbors\n",
      "[23:32:45] WARNING: not removing hydrogen atom without neighbors\n",
      "[23:32:45] WARNING: not removing hydrogen atom without neighbors\n",
      "[23:32:45] WARNING: not removing hydrogen atom without neighbors\n",
      "[23:32:45] WARNING: not removing hydrogen atom without neighbors\n",
      "[23:32:45] WARNING: not removing hydrogen atom without neighbors\n",
      "[23:32:45] WARNING: not removing hydrogen atom without neighbors\n"
     ]
    }
   ],
   "source": [
    "# Чтение файла\n",
    "file_path = r'C:\\Users\\Данил\\Documents\\Курсовая\\-1351608744.csv'\n",
    "df_orig = pd.read_csv(file_path)\n",
    "\n",
    "# Проверяем типы данных\n",
    "print(\"Типы данных в столбцах:\")\n",
    "print(df_orig.dtypes)\n",
    "\n",
    "df_orig[\"nmol\"] = df_orig[\"Drug\"].apply(Chem.MolFromSmiles)"
   ]
  },
  {
   "cell_type": "code",
   "execution_count": 11,
   "id": "89c150aa-a8b3-4af1-be03-e5fa96530c81",
   "metadata": {},
   "outputs": [],
   "source": [
    "calc = Calculator(descriptors)"
   ]
  },
  {
   "cell_type": "code",
   "execution_count": 13,
   "id": "085b6a6e-7e63-49b0-93ed-b76c344b7e2f",
   "metadata": {
    "scrolled": true
   },
   "outputs": [
    {
     "name": "stderr",
     "output_type": "stream",
     "text": [
      "  2%|█▋                                                                                | 2/100 [00:03<02:39,  1.63s/it]"
     ]
    },
    {
     "name": "stdout",
     "output_type": "stream",
     "text": [
      "C:\\Anaconda\\Lib\\site-packages\\numpy\\core\\fromnumeric.py:88: RuntimeWarning: overflow encountered in reduce\n",
      "  return ufunc.reduce(obj, axis, dtype, out, **passkwargs)\n"
     ]
    },
    {
     "name": "stderr",
     "output_type": "stream",
     "text": [
      "100%|████████████████████████████████████████████████████████████████████████████████| 100/100 [00:12<00:00,  7.75it/s]\n"
     ]
    },
    {
     "name": "stdout",
     "output_type": "stream",
     "text": [
      "Посчитан чанк 0 из 80, размер чанка 100\n"
     ]
    },
    {
     "name": "stderr",
     "output_type": "stream",
     "text": [
      " 11%|████████▉                                                                        | 11/100 [00:01<00:08, 10.20it/s]"
     ]
    },
    {
     "name": "stdout",
     "output_type": "stream",
     "text": [
      "C:\\Anaconda\\Lib\\site-packages\\numpy\\core\\fromnumeric.py:88: RuntimeWarning: overflow encountered in reduce\n",
      "  return ufunc.reduce(obj, axis, dtype, out, **passkwargs)\n"
     ]
    },
    {
     "name": "stderr",
     "output_type": "stream",
     "text": [
      "100%|████████████████████████████████████████████████████████████████████████████████| 100/100 [00:06<00:00, 15.37it/s]\n"
     ]
    },
    {
     "name": "stdout",
     "output_type": "stream",
     "text": [
      "Посчитан чанк 1 из 80, размер чанка 100\n"
     ]
    },
    {
     "name": "stderr",
     "output_type": "stream",
     "text": [
      " 18%|██████████████▌                                                                  | 18/100 [00:02<00:06, 11.85it/s]"
     ]
    },
    {
     "name": "stdout",
     "output_type": "stream",
     "text": [
      "C:\\Anaconda\\Lib\\site-packages\\numpy\\core\\fromnumeric.py:88: RuntimeWarning: overflow encountered in reduce\n",
      "  return ufunc.reduce(obj, axis, dtype, out, **passkwargs)\n"
     ]
    },
    {
     "name": "stderr",
     "output_type": "stream",
     "text": [
      "100%|████████████████████████████████████████████████████████████████████████████████| 100/100 [00:06<00:00, 14.44it/s]\n"
     ]
    },
    {
     "name": "stdout",
     "output_type": "stream",
     "text": [
      "Посчитан чанк 2 из 80, размер чанка 100\n"
     ]
    },
    {
     "name": "stderr",
     "output_type": "stream",
     "text": [
      "100%|████████████████████████████████████████████████████████████████████████████████| 100/100 [00:06<00:00, 16.31it/s]\n"
     ]
    },
    {
     "name": "stdout",
     "output_type": "stream",
     "text": [
      "Посчитан чанк 3 из 80, размер чанка 100\n"
     ]
    },
    {
     "name": "stderr",
     "output_type": "stream",
     "text": [
      "100%|████████████████████████████████████████████████████████████████████████████████| 100/100 [00:06<00:00, 15.49it/s]\n"
     ]
    },
    {
     "name": "stdout",
     "output_type": "stream",
     "text": [
      "Посчитан чанк 4 из 80, размер чанка 100\n"
     ]
    },
    {
     "name": "stderr",
     "output_type": "stream",
     "text": [
      "100%|████████████████████████████████████████████████████████████████████████████████| 100/100 [00:06<00:00, 14.62it/s]\n"
     ]
    },
    {
     "name": "stdout",
     "output_type": "stream",
     "text": [
      "Посчитан чанк 5 из 80, размер чанка 100\n"
     ]
    },
    {
     "name": "stderr",
     "output_type": "stream",
     "text": [
      "100%|████████████████████████████████████████████████████████████████████████████████| 100/100 [00:06<00:00, 15.40it/s]\n"
     ]
    },
    {
     "name": "stdout",
     "output_type": "stream",
     "text": [
      "Посчитан чанк 6 из 80, размер чанка 100\n"
     ]
    },
    {
     "name": "stderr",
     "output_type": "stream",
     "text": [
      "100%|████████████████████████████████████████████████████████████████████████████████| 100/100 [00:06<00:00, 14.39it/s]\n"
     ]
    },
    {
     "name": "stdout",
     "output_type": "stream",
     "text": [
      "Посчитан чанк 7 из 80, размер чанка 100\n"
     ]
    },
    {
     "name": "stderr",
     "output_type": "stream",
     "text": [
      "100%|████████████████████████████████████████████████████████████████████████████████| 100/100 [00:06<00:00, 16.24it/s]\n"
     ]
    },
    {
     "name": "stdout",
     "output_type": "stream",
     "text": [
      "Посчитан чанк 8 из 80, размер чанка 100\n"
     ]
    },
    {
     "name": "stderr",
     "output_type": "stream",
     "text": [
      "100%|████████████████████████████████████████████████████████████████████████████████| 100/100 [00:06<00:00, 15.77it/s]\n"
     ]
    },
    {
     "name": "stdout",
     "output_type": "stream",
     "text": [
      "Посчитан чанк 9 из 80, размер чанка 100\n"
     ]
    },
    {
     "name": "stderr",
     "output_type": "stream",
     "text": [
      "100%|████████████████████████████████████████████████████████████████████████████████| 100/100 [00:06<00:00, 15.67it/s]\n"
     ]
    },
    {
     "name": "stdout",
     "output_type": "stream",
     "text": [
      "Посчитан чанк 10 из 80, размер чанка 100\n"
     ]
    },
    {
     "name": "stderr",
     "output_type": "stream",
     "text": [
      "100%|████████████████████████████████████████████████████████████████████████████████| 100/100 [00:06<00:00, 15.25it/s]\n"
     ]
    },
    {
     "name": "stdout",
     "output_type": "stream",
     "text": [
      "Посчитан чанк 11 из 80, размер чанка 100\n"
     ]
    },
    {
     "name": "stderr",
     "output_type": "stream",
     "text": [
      "100%|████████████████████████████████████████████████████████████████████████████████| 100/100 [00:06<00:00, 15.70it/s]\n"
     ]
    },
    {
     "name": "stdout",
     "output_type": "stream",
     "text": [
      "Посчитан чанк 12 из 80, размер чанка 100\n"
     ]
    },
    {
     "name": "stderr",
     "output_type": "stream",
     "text": [
      "100%|████████████████████████████████████████████████████████████████████████████████| 100/100 [00:07<00:00, 13.94it/s]\n"
     ]
    },
    {
     "name": "stdout",
     "output_type": "stream",
     "text": [
      "Посчитан чанк 13 из 80, размер чанка 100\n"
     ]
    },
    {
     "name": "stderr",
     "output_type": "stream",
     "text": [
      "100%|████████████████████████████████████████████████████████████████████████████████| 100/100 [00:06<00:00, 15.12it/s]\n"
     ]
    },
    {
     "name": "stdout",
     "output_type": "stream",
     "text": [
      "Посчитан чанк 14 из 80, размер чанка 100\n"
     ]
    },
    {
     "name": "stderr",
     "output_type": "stream",
     "text": [
      "100%|████████████████████████████████████████████████████████████████████████████████| 100/100 [00:06<00:00, 14.62it/s]\n"
     ]
    },
    {
     "name": "stdout",
     "output_type": "stream",
     "text": [
      "Посчитан чанк 15 из 80, размер чанка 100\n"
     ]
    },
    {
     "name": "stderr",
     "output_type": "stream",
     "text": [
      "100%|████████████████████████████████████████████████████████████████████████████████| 100/100 [00:07<00:00, 12.59it/s]\n"
     ]
    },
    {
     "name": "stdout",
     "output_type": "stream",
     "text": [
      "Посчитан чанк 16 из 80, размер чанка 100\n"
     ]
    },
    {
     "name": "stderr",
     "output_type": "stream",
     "text": [
      "100%|████████████████████████████████████████████████████████████████████████████████| 100/100 [00:06<00:00, 16.41it/s]\n"
     ]
    },
    {
     "name": "stdout",
     "output_type": "stream",
     "text": [
      "Посчитан чанк 17 из 80, размер чанка 100\n"
     ]
    },
    {
     "name": "stderr",
     "output_type": "stream",
     "text": [
      "100%|████████████████████████████████████████████████████████████████████████████████| 100/100 [00:06<00:00, 15.93it/s]\n"
     ]
    },
    {
     "name": "stdout",
     "output_type": "stream",
     "text": [
      "Посчитан чанк 18 из 80, размер чанка 100\n"
     ]
    },
    {
     "name": "stderr",
     "output_type": "stream",
     "text": [
      "100%|████████████████████████████████████████████████████████████████████████████████| 100/100 [00:06<00:00, 16.21it/s]\n"
     ]
    },
    {
     "name": "stdout",
     "output_type": "stream",
     "text": [
      "Посчитан чанк 19 из 80, размер чанка 100\n"
     ]
    },
    {
     "name": "stderr",
     "output_type": "stream",
     "text": [
      "100%|████████████████████████████████████████████████████████████████████████████████| 100/100 [00:05<00:00, 17.45it/s]\n"
     ]
    },
    {
     "name": "stdout",
     "output_type": "stream",
     "text": [
      "Посчитан чанк 20 из 80, размер чанка 100\n"
     ]
    },
    {
     "name": "stderr",
     "output_type": "stream",
     "text": [
      "100%|████████████████████████████████████████████████████████████████████████████████| 100/100 [00:05<00:00, 16.95it/s]\n"
     ]
    },
    {
     "name": "stdout",
     "output_type": "stream",
     "text": [
      "Посчитан чанк 21 из 80, размер чанка 100\n"
     ]
    },
    {
     "name": "stderr",
     "output_type": "stream",
     "text": [
      "100%|████████████████████████████████████████████████████████████████████████████████| 100/100 [00:06<00:00, 15.18it/s]\n"
     ]
    },
    {
     "name": "stdout",
     "output_type": "stream",
     "text": [
      "Посчитан чанк 22 из 80, размер чанка 100\n"
     ]
    },
    {
     "name": "stderr",
     "output_type": "stream",
     "text": [
      "100%|████████████████████████████████████████████████████████████████████████████████| 100/100 [00:10<00:00,  9.66it/s]\n"
     ]
    },
    {
     "name": "stdout",
     "output_type": "stream",
     "text": [
      "Посчитан чанк 23 из 80, размер чанка 100\n"
     ]
    },
    {
     "name": "stderr",
     "output_type": "stream",
     "text": [
      "100%|████████████████████████████████████████████████████████████████████████████████| 100/100 [00:06<00:00, 15.51it/s]\n"
     ]
    },
    {
     "name": "stdout",
     "output_type": "stream",
     "text": [
      "Посчитан чанк 24 из 80, размер чанка 100\n"
     ]
    },
    {
     "name": "stderr",
     "output_type": "stream",
     "text": [
      "100%|████████████████████████████████████████████████████████████████████████████████| 100/100 [00:05<00:00, 17.02it/s]\n"
     ]
    },
    {
     "name": "stdout",
     "output_type": "stream",
     "text": [
      "Посчитан чанк 25 из 80, размер чанка 100\n"
     ]
    },
    {
     "name": "stderr",
     "output_type": "stream",
     "text": [
      "100%|████████████████████████████████████████████████████████████████████████████████| 100/100 [00:06<00:00, 14.43it/s]\n"
     ]
    },
    {
     "name": "stdout",
     "output_type": "stream",
     "text": [
      "Посчитан чанк 26 из 80, размер чанка 100\n"
     ]
    },
    {
     "name": "stderr",
     "output_type": "stream",
     "text": [
      "100%|████████████████████████████████████████████████████████████████████████████████| 100/100 [00:05<00:00, 16.79it/s]\n"
     ]
    },
    {
     "name": "stdout",
     "output_type": "stream",
     "text": [
      "Посчитан чанк 27 из 80, размер чанка 100\n"
     ]
    },
    {
     "name": "stderr",
     "output_type": "stream",
     "text": [
      "100%|████████████████████████████████████████████████████████████████████████████████| 100/100 [00:06<00:00, 15.16it/s]\n"
     ]
    },
    {
     "name": "stdout",
     "output_type": "stream",
     "text": [
      "Посчитан чанк 28 из 80, размер чанка 100\n"
     ]
    },
    {
     "name": "stderr",
     "output_type": "stream",
     "text": [
      "100%|████████████████████████████████████████████████████████████████████████████████| 100/100 [00:06<00:00, 14.31it/s]\n"
     ]
    },
    {
     "name": "stdout",
     "output_type": "stream",
     "text": [
      "Посчитан чанк 29 из 80, размер чанка 100\n"
     ]
    },
    {
     "name": "stderr",
     "output_type": "stream",
     "text": [
      "100%|████████████████████████████████████████████████████████████████████████████████| 100/100 [00:06<00:00, 15.52it/s]\n"
     ]
    },
    {
     "name": "stdout",
     "output_type": "stream",
     "text": [
      "Посчитан чанк 30 из 80, размер чанка 100\n"
     ]
    },
    {
     "name": "stderr",
     "output_type": "stream",
     "text": [
      "100%|████████████████████████████████████████████████████████████████████████████████| 100/100 [00:07<00:00, 13.10it/s]\n"
     ]
    },
    {
     "name": "stdout",
     "output_type": "stream",
     "text": [
      "Посчитан чанк 31 из 80, размер чанка 100\n"
     ]
    },
    {
     "name": "stderr",
     "output_type": "stream",
     "text": [
      "100%|████████████████████████████████████████████████████████████████████████████████| 100/100 [00:07<00:00, 14.06it/s]\n"
     ]
    },
    {
     "name": "stdout",
     "output_type": "stream",
     "text": [
      "Посчитан чанк 32 из 80, размер чанка 100\n"
     ]
    },
    {
     "name": "stderr",
     "output_type": "stream",
     "text": [
      "100%|████████████████████████████████████████████████████████████████████████████████| 100/100 [00:09<00:00, 10.79it/s]\n"
     ]
    },
    {
     "name": "stdout",
     "output_type": "stream",
     "text": [
      "Посчитан чанк 33 из 80, размер чанка 100\n"
     ]
    },
    {
     "name": "stderr",
     "output_type": "stream",
     "text": [
      "100%|████████████████████████████████████████████████████████████████████████████████| 100/100 [00:07<00:00, 12.95it/s]\n"
     ]
    },
    {
     "name": "stdout",
     "output_type": "stream",
     "text": [
      "Посчитан чанк 34 из 80, размер чанка 100\n"
     ]
    },
    {
     "name": "stderr",
     "output_type": "stream",
     "text": [
      "100%|████████████████████████████████████████████████████████████████████████████████| 100/100 [00:07<00:00, 13.43it/s]\n"
     ]
    },
    {
     "name": "stdout",
     "output_type": "stream",
     "text": [
      "Посчитан чанк 35 из 80, размер чанка 100\n"
     ]
    },
    {
     "name": "stderr",
     "output_type": "stream",
     "text": [
      "100%|████████████████████████████████████████████████████████████████████████████████| 100/100 [00:06<00:00, 14.55it/s]\n"
     ]
    },
    {
     "name": "stdout",
     "output_type": "stream",
     "text": [
      "Посчитан чанк 36 из 80, размер чанка 100\n"
     ]
    },
    {
     "name": "stderr",
     "output_type": "stream",
     "text": [
      "100%|████████████████████████████████████████████████████████████████████████████████| 100/100 [00:11<00:00,  8.87it/s]\n"
     ]
    },
    {
     "name": "stdout",
     "output_type": "stream",
     "text": [
      "Посчитан чанк 37 из 80, размер чанка 100\n"
     ]
    },
    {
     "name": "stderr",
     "output_type": "stream",
     "text": [
      "100%|████████████████████████████████████████████████████████████████████████████████| 100/100 [00:08<00:00, 11.44it/s]\n"
     ]
    },
    {
     "name": "stdout",
     "output_type": "stream",
     "text": [
      "Посчитан чанк 38 из 80, размер чанка 100\n"
     ]
    },
    {
     "name": "stderr",
     "output_type": "stream",
     "text": [
      "100%|████████████████████████████████████████████████████████████████████████████████| 100/100 [00:06<00:00, 15.81it/s]\n"
     ]
    },
    {
     "name": "stdout",
     "output_type": "stream",
     "text": [
      "Посчитан чанк 39 из 80, размер чанка 100\n"
     ]
    },
    {
     "name": "stderr",
     "output_type": "stream",
     "text": [
      "100%|████████████████████████████████████████████████████████████████████████████████| 100/100 [00:06<00:00, 14.50it/s]\n"
     ]
    },
    {
     "name": "stdout",
     "output_type": "stream",
     "text": [
      "Посчитан чанк 40 из 80, размер чанка 100\n"
     ]
    },
    {
     "name": "stderr",
     "output_type": "stream",
     "text": [
      " 45%|████████████████████████████████████▍                                            | 45/100 [00:03<00:03, 16.07it/s]"
     ]
    },
    {
     "name": "stdout",
     "output_type": "stream",
     "text": [
      "C:\\Anaconda\\Lib\\site-packages\\numpy\\core\\fromnumeric.py:88: RuntimeWarning: overflow encountered in reduce\n",
      "  return ufunc.reduce(obj, axis, dtype, out, **passkwargs)\n"
     ]
    },
    {
     "name": "stderr",
     "output_type": "stream",
     "text": [
      "100%|████████████████████████████████████████████████████████████████████████████████| 100/100 [00:08<00:00, 11.39it/s]\n"
     ]
    },
    {
     "name": "stdout",
     "output_type": "stream",
     "text": [
      "Посчитан чанк 41 из 80, размер чанка 100\n"
     ]
    },
    {
     "name": "stderr",
     "output_type": "stream",
     "text": [
      "100%|████████████████████████████████████████████████████████████████████████████████| 100/100 [00:11<00:00,  8.88it/s]\n"
     ]
    },
    {
     "name": "stdout",
     "output_type": "stream",
     "text": [
      "Посчитан чанк 42 из 80, размер чанка 100\n"
     ]
    },
    {
     "name": "stderr",
     "output_type": "stream",
     "text": [
      " 35%|████████████████████████████▎                                                    | 35/100 [00:03<00:04, 14.67it/s]"
     ]
    },
    {
     "name": "stdout",
     "output_type": "stream",
     "text": [
      "C:\\Anaconda\\Lib\\site-packages\\numpy\\core\\fromnumeric.py:88: RuntimeWarning: overflow encountered in reduce\n",
      "  return ufunc.reduce(obj, axis, dtype, out, **passkwargs)\n"
     ]
    },
    {
     "name": "stderr",
     "output_type": "stream",
     "text": [
      "100%|████████████████████████████████████████████████████████████████████████████████| 100/100 [00:07<00:00, 13.79it/s]\n"
     ]
    },
    {
     "name": "stdout",
     "output_type": "stream",
     "text": [
      "Посчитан чанк 43 из 80, размер чанка 100\n"
     ]
    },
    {
     "name": "stderr",
     "output_type": "stream",
     "text": [
      "100%|████████████████████████████████████████████████████████████████████████████████| 100/100 [00:08<00:00, 11.30it/s]\n"
     ]
    },
    {
     "name": "stdout",
     "output_type": "stream",
     "text": [
      "Посчитан чанк 44 из 80, размер чанка 100\n"
     ]
    },
    {
     "name": "stderr",
     "output_type": "stream",
     "text": [
      "100%|████████████████████████████████████████████████████████████████████████████████| 100/100 [00:07<00:00, 12.65it/s]\n"
     ]
    },
    {
     "name": "stdout",
     "output_type": "stream",
     "text": [
      "Посчитан чанк 45 из 80, размер чанка 100\n"
     ]
    },
    {
     "name": "stderr",
     "output_type": "stream",
     "text": [
      "100%|████████████████████████████████████████████████████████████████████████████████| 100/100 [00:07<00:00, 12.58it/s]\n"
     ]
    },
    {
     "name": "stdout",
     "output_type": "stream",
     "text": [
      "Посчитан чанк 46 из 80, размер чанка 100\n"
     ]
    },
    {
     "name": "stderr",
     "output_type": "stream",
     "text": [
      "100%|████████████████████████████████████████████████████████████████████████████████| 100/100 [00:08<00:00, 11.50it/s]\n"
     ]
    },
    {
     "name": "stdout",
     "output_type": "stream",
     "text": [
      "Посчитан чанк 47 из 80, размер чанка 100\n"
     ]
    },
    {
     "name": "stderr",
     "output_type": "stream",
     "text": [
      "100%|████████████████████████████████████████████████████████████████████████████████| 100/100 [00:06<00:00, 15.50it/s]\n"
     ]
    },
    {
     "name": "stdout",
     "output_type": "stream",
     "text": [
      "Посчитан чанк 48 из 80, размер чанка 100\n"
     ]
    },
    {
     "name": "stderr",
     "output_type": "stream",
     "text": [
      "100%|████████████████████████████████████████████████████████████████████████████████| 100/100 [00:10<00:00,  9.56it/s]\n"
     ]
    },
    {
     "name": "stdout",
     "output_type": "stream",
     "text": [
      "Посчитан чанк 49 из 80, размер чанка 100\n"
     ]
    },
    {
     "name": "stderr",
     "output_type": "stream",
     "text": [
      "100%|████████████████████████████████████████████████████████████████████████████████| 100/100 [00:10<00:00,  9.63it/s]\n"
     ]
    },
    {
     "name": "stdout",
     "output_type": "stream",
     "text": [
      "Посчитан чанк 50 из 80, размер чанка 100\n"
     ]
    },
    {
     "name": "stderr",
     "output_type": "stream",
     "text": [
      "100%|████████████████████████████████████████████████████████████████████████████████| 100/100 [00:11<00:00,  8.37it/s]\n"
     ]
    },
    {
     "name": "stdout",
     "output_type": "stream",
     "text": [
      "Посчитан чанк 51 из 80, размер чанка 100\n"
     ]
    },
    {
     "name": "stderr",
     "output_type": "stream",
     "text": [
      "100%|████████████████████████████████████████████████████████████████████████████████| 100/100 [00:13<00:00,  7.42it/s]\n"
     ]
    },
    {
     "name": "stdout",
     "output_type": "stream",
     "text": [
      "Посчитан чанк 52 из 80, размер чанка 100\n"
     ]
    },
    {
     "name": "stderr",
     "output_type": "stream",
     "text": [
      " 75%|████████████████████████████████████████████████████████████▊                    | 75/100 [00:10<00:10,  2.30it/s]"
     ]
    },
    {
     "name": "stdout",
     "output_type": "stream",
     "text": [
      "C:\\Anaconda\\Lib\\site-packages\\numpy\\core\\fromnumeric.py:88: RuntimeWarning: overflow encountered in reduce\n",
      "  return ufunc.reduce(obj, axis, dtype, out, **passkwargs)\n"
     ]
    },
    {
     "name": "stderr",
     "output_type": "stream",
     "text": [
      "100%|████████████████████████████████████████████████████████████████████████████████| 100/100 [00:15<00:00,  6.29it/s]\n"
     ]
    },
    {
     "name": "stdout",
     "output_type": "stream",
     "text": [
      "Посчитан чанк 53 из 80, размер чанка 100\n"
     ]
    },
    {
     "name": "stderr",
     "output_type": "stream",
     "text": [
      "100%|████████████████████████████████████████████████████████████████████████████████| 100/100 [00:14<00:00,  6.90it/s]\n"
     ]
    },
    {
     "name": "stdout",
     "output_type": "stream",
     "text": [
      "Посчитан чанк 54 из 80, размер чанка 100\n"
     ]
    },
    {
     "name": "stderr",
     "output_type": "stream",
     "text": [
      "100%|████████████████████████████████████████████████████████████████████████████████| 100/100 [00:16<00:00,  6.09it/s]\n"
     ]
    },
    {
     "name": "stdout",
     "output_type": "stream",
     "text": [
      "Посчитан чанк 55 из 80, размер чанка 100\n"
     ]
    },
    {
     "name": "stderr",
     "output_type": "stream",
     "text": [
      "100%|████████████████████████████████████████████████████████████████████████████████| 100/100 [00:13<00:00,  7.33it/s]\n"
     ]
    },
    {
     "name": "stdout",
     "output_type": "stream",
     "text": [
      "Посчитан чанк 56 из 80, размер чанка 100\n"
     ]
    },
    {
     "name": "stderr",
     "output_type": "stream",
     "text": [
      " 24%|███████████████████▍                                                             | 24/100 [00:03<00:08,  8.46it/s]"
     ]
    },
    {
     "name": "stdout",
     "output_type": "stream",
     "text": [
      "C:\\Anaconda\\Lib\\site-packages\\numpy\\core\\fromnumeric.py:88: RuntimeWarning: overflow encountered in reduce\n",
      "  return ufunc.reduce(obj, axis, dtype, out, **passkwargs)\n"
     ]
    },
    {
     "name": "stderr",
     "output_type": "stream",
     "text": [
      " 55%|████████████████████████████████████████████▌                                    | 55/100 [00:05<00:03, 12.43it/s]"
     ]
    },
    {
     "name": "stdout",
     "output_type": "stream",
     "text": [
      "C:\\Anaconda\\Lib\\site-packages\\numpy\\core\\fromnumeric.py:88: RuntimeWarning: overflow encountered in reduce\n",
      "  return ufunc.reduce(obj, axis, dtype, out, **passkwargs)\n"
     ]
    },
    {
     "name": "stderr",
     "output_type": "stream",
     "text": [
      "100%|████████████████████████████████████████████████████████████████████████████████| 100/100 [00:14<00:00,  6.86it/s]\n"
     ]
    },
    {
     "name": "stdout",
     "output_type": "stream",
     "text": [
      "Посчитан чанк 57 из 80, размер чанка 100\n"
     ]
    },
    {
     "name": "stderr",
     "output_type": "stream",
     "text": [
      " 25%|████████████████████▎                                                            | 25/100 [00:03<00:06, 11.66it/s]"
     ]
    },
    {
     "name": "stdout",
     "output_type": "stream",
     "text": [
      "C:\\Anaconda\\Lib\\site-packages\\numpy\\core\\fromnumeric.py:88: RuntimeWarning: overflow encountered in reduce\n",
      "  return ufunc.reduce(obj, axis, dtype, out, **passkwargs)\n"
     ]
    },
    {
     "name": "stderr",
     "output_type": "stream",
     "text": [
      "100%|████████████████████████████████████████████████████████████████████████████████| 100/100 [00:15<00:00,  6.38it/s]\n"
     ]
    },
    {
     "name": "stdout",
     "output_type": "stream",
     "text": [
      "Посчитан чанк 58 из 80, размер чанка 100\n"
     ]
    },
    {
     "name": "stderr",
     "output_type": "stream",
     "text": [
      " 22%|█████████████████▊                                                               | 22/100 [00:02<00:06, 12.37it/s]"
     ]
    },
    {
     "name": "stdout",
     "output_type": "stream",
     "text": [
      "C:\\Anaconda\\Lib\\site-packages\\numpy\\core\\fromnumeric.py:88: RuntimeWarning: overflow encountered in reduce\n",
      "  return ufunc.reduce(obj, axis, dtype, out, **passkwargs)\n"
     ]
    },
    {
     "name": "stderr",
     "output_type": "stream",
     "text": [
      "100%|████████████████████████████████████████████████████████████████████████████████| 100/100 [00:13<00:00,  7.35it/s]\n"
     ]
    },
    {
     "name": "stdout",
     "output_type": "stream",
     "text": [
      "Посчитан чанк 59 из 80, размер чанка 100\n"
     ]
    },
    {
     "name": "stderr",
     "output_type": "stream",
     "text": [
      "100%|████████████████████████████████████████████████████████████████████████████████| 100/100 [00:17<00:00,  5.59it/s]\n"
     ]
    },
    {
     "name": "stdout",
     "output_type": "stream",
     "text": [
      "Посчитан чанк 60 из 80, размер чанка 100\n"
     ]
    },
    {
     "name": "stderr",
     "output_type": "stream",
     "text": [
      "100%|████████████████████████████████████████████████████████████████████████████████| 100/100 [00:13<00:00,  7.28it/s]\n"
     ]
    },
    {
     "name": "stdout",
     "output_type": "stream",
     "text": [
      "Посчитан чанк 61 из 80, размер чанка 100\n"
     ]
    },
    {
     "name": "stderr",
     "output_type": "stream",
     "text": [
      "100%|████████████████████████████████████████████████████████████████████████████████| 100/100 [00:13<00:00,  7.23it/s]\n"
     ]
    },
    {
     "name": "stdout",
     "output_type": "stream",
     "text": [
      "Посчитан чанк 62 из 80, размер чанка 100\n"
     ]
    },
    {
     "name": "stderr",
     "output_type": "stream",
     "text": [
      "100%|████████████████████████████████████████████████████████████████████████████████| 100/100 [00:14<00:00,  6.96it/s]\n"
     ]
    },
    {
     "name": "stdout",
     "output_type": "stream",
     "text": [
      "Посчитан чанк 63 из 80, размер чанка 100\n"
     ]
    },
    {
     "name": "stderr",
     "output_type": "stream",
     "text": [
      " 47%|██████████████████████████████████████                                           | 47/100 [00:05<00:04, 12.97it/s]"
     ]
    },
    {
     "name": "stdout",
     "output_type": "stream",
     "text": [
      "C:\\Anaconda\\Lib\\site-packages\\numpy\\core\\fromnumeric.py:88: RuntimeWarning: overflow encountered in reduce\n",
      "  return ufunc.reduce(obj, axis, dtype, out, **passkwargs)\n"
     ]
    },
    {
     "name": "stderr",
     "output_type": "stream",
     "text": [
      " 90%|████████████████████████████████████████████████████████████████████████▉        | 90/100 [00:12<00:06,  1.55it/s]"
     ]
    },
    {
     "name": "stdout",
     "output_type": "stream",
     "text": [
      "C:\\Anaconda\\Lib\\site-packages\\numpy\\core\\fromnumeric.py:88: RuntimeWarning: overflow encountered in reduce\n",
      "  return ufunc.reduce(obj, axis, dtype, out, **passkwargs)\n"
     ]
    },
    {
     "name": "stderr",
     "output_type": "stream",
     "text": [
      "100%|████████████████████████████████████████████████████████████████████████████████| 100/100 [00:14<00:00,  7.13it/s]\n"
     ]
    },
    {
     "name": "stdout",
     "output_type": "stream",
     "text": [
      "Посчитан чанк 64 из 80, размер чанка 100\n"
     ]
    },
    {
     "name": "stderr",
     "output_type": "stream",
     "text": [
      " 94%|████████████████████████████████████████████████████████████████████████████▏    | 94/100 [00:11<00:01,  5.13it/s]"
     ]
    },
    {
     "name": "stdout",
     "output_type": "stream",
     "text": [
      "C:\\Anaconda\\Lib\\site-packages\\numpy\\core\\fromnumeric.py:88: RuntimeWarning: overflow encountered in reduce\n",
      "  return ufunc.reduce(obj, axis, dtype, out, **passkwargs)\n"
     ]
    },
    {
     "name": "stderr",
     "output_type": "stream",
     "text": [
      "100%|████████████████████████████████████████████████████████████████████████████████| 100/100 [00:12<00:00,  7.99it/s]\n"
     ]
    },
    {
     "name": "stdout",
     "output_type": "stream",
     "text": [
      "Посчитан чанк 65 из 80, размер чанка 100\n"
     ]
    },
    {
     "name": "stderr",
     "output_type": "stream",
     "text": [
      "  0%|                                                                                          | 0/100 [00:00<?, ?it/s][23:44:24] WARNING: not removing hydrogen atom without neighbors\n",
      "[23:44:24] WARNING: not removing hydrogen atom without neighbors\n",
      "[23:44:24] WARNING: not removing hydrogen atom without neighbors\n",
      " 48%|██████████████████████████████████████▉                                          | 48/100 [00:05<00:07,  7.35it/s][23:44:29] WARNING: not removing hydrogen atom without neighbors\n",
      "[23:44:29] WARNING: not removing hydrogen atom without neighbors\n",
      "[23:44:29] WARNING: not removing hydrogen atom without neighbors\n",
      "100%|████████████████████████████████████████████████████████████████████████████████| 100/100 [00:11<00:00,  8.79it/s]\n"
     ]
    },
    {
     "name": "stdout",
     "output_type": "stream",
     "text": [
      "Посчитан чанк 66 из 80, размер чанка 100\n"
     ]
    },
    {
     "name": "stderr",
     "output_type": "stream",
     "text": [
      " 60%|████████████████████████████████████████████████▌                                | 60/100 [00:05<00:03, 12.75it/s]"
     ]
    },
    {
     "name": "stdout",
     "output_type": "stream",
     "text": [
      "C:\\Anaconda\\Lib\\site-packages\\numpy\\core\\fromnumeric.py:88: RuntimeWarning: overflow encountered in reduce\n",
      "  return ufunc.reduce(obj, axis, dtype, out, **passkwargs)\n"
     ]
    },
    {
     "name": "stderr",
     "output_type": "stream",
     "text": [
      " 79%|███████████████████████████████████████████████████████████████▉                 | 79/100 [00:09<00:06,  3.05it/s]"
     ]
    },
    {
     "name": "stdout",
     "output_type": "stream",
     "text": [
      "C:\\Anaconda\\Lib\\site-packages\\numpy\\core\\fromnumeric.py:88: RuntimeWarning: overflow encountered in reduce\n",
      "  return ufunc.reduce(obj, axis, dtype, out, **passkwargs)\n",
      "C:\\Anaconda\\Lib\\site-packages\\numpy\\core\\fromnumeric.py:88: RuntimeWarning: overflow encountered in reduce\n",
      "  return ufunc.reduce(obj, axis, dtype, out, **passkwargs)\n"
     ]
    },
    {
     "name": "stderr",
     "output_type": "stream",
     "text": [
      "100%|████████████████████████████████████████████████████████████████████████████████| 100/100 [00:11<00:00,  8.41it/s]\n"
     ]
    },
    {
     "name": "stdout",
     "output_type": "stream",
     "text": [
      "Посчитан чанк 67 из 80, размер чанка 100\n"
     ]
    },
    {
     "name": "stderr",
     "output_type": "stream",
     "text": [
      " 20%|████████████████▏                                                                | 20/100 [00:02<00:05, 14.86it/s]"
     ]
    },
    {
     "name": "stdout",
     "output_type": "stream",
     "text": [
      "C:\\Anaconda\\Lib\\site-packages\\numpy\\core\\fromnumeric.py:88: RuntimeWarning: overflow encountered in reduce\n",
      "  return ufunc.reduce(obj, axis, dtype, out, **passkwargs)\n"
     ]
    },
    {
     "name": "stderr",
     "output_type": "stream",
     "text": [
      "100%|████████████████████████████████████████████████████████████████████████████████| 100/100 [00:08<00:00, 11.76it/s]\n"
     ]
    },
    {
     "name": "stdout",
     "output_type": "stream",
     "text": [
      "Посчитан чанк 68 из 80, размер чанка 100\n"
     ]
    },
    {
     "name": "stderr",
     "output_type": "stream",
     "text": [
      "  3%|██▍                                                                               | 3/100 [00:01<00:42,  2.26it/s][23:45:02] WARNING: not removing hydrogen atom without neighbors\n",
      "[23:45:02] WARNING: not removing hydrogen atom without neighbors\n",
      "[23:45:02] WARNING: not removing hydrogen atom without neighbors\n",
      " 37%|█████████████████████████████▉                                                   | 37/100 [00:03<00:03, 17.16it/s][23:45:04] WARNING: not removing hydrogen atom without neighbors\n",
      "[23:45:04] WARNING: not removing hydrogen atom without neighbors\n",
      "[23:45:04] WARNING: not removing hydrogen atom without neighbors\n",
      "[23:45:04] WARNING: not removing hydrogen atom without neighbors\n",
      "[23:45:04] WARNING: not removing hydrogen atom without neighbors\n",
      "[23:45:04] WARNING: not removing hydrogen atom without neighbors\n",
      " 95%|████████████████████████████████████████████████████████████████████████████▉    | 95/100 [00:08<00:00,  5.91it/s]"
     ]
    },
    {
     "name": "stdout",
     "output_type": "stream",
     "text": [
      "C:\\Anaconda\\Lib\\site-packages\\numpy\\core\\fromnumeric.py:88: RuntimeWarning: overflow encountered in reduce\n",
      "  return ufunc.reduce(obj, axis, dtype, out, **passkwargs)\n"
     ]
    },
    {
     "name": "stderr",
     "output_type": "stream",
     "text": [
      "100%|████████████████████████████████████████████████████████████████████████████████| 100/100 [00:10<00:00,  9.89it/s]\n"
     ]
    },
    {
     "name": "stdout",
     "output_type": "stream",
     "text": [
      "Посчитан чанк 69 из 80, размер чанка 100\n"
     ]
    },
    {
     "name": "stderr",
     "output_type": "stream",
     "text": [
      "  0%|                                                                                          | 0/100 [00:00<?, ?it/s][23:45:12] WARNING: not removing hydrogen atom without neighbors\n",
      "[23:45:12] WARNING: not removing hydrogen atom without neighbors\n",
      "[23:45:12] WARNING: not removing hydrogen atom without neighbors\n",
      " 69%|███████████████████████████████████████████████████████▉                         | 69/100 [00:13<00:27,  1.14it/s]"
     ]
    },
    {
     "name": "stdout",
     "output_type": "stream",
     "text": [
      "C:\\Anaconda\\Lib\\site-packages\\numpy\\core\\fromnumeric.py:88: RuntimeWarning: overflow encountered in reduce\n",
      "  return ufunc.reduce(obj, axis, dtype, out, **passkwargs)\n"
     ]
    },
    {
     "name": "stderr",
     "output_type": "stream",
     "text": [
      "100%|████████████████████████████████████████████████████████████████████████████████| 100/100 [00:21<00:00,  4.65it/s]\n"
     ]
    },
    {
     "name": "stdout",
     "output_type": "stream",
     "text": [
      "Посчитан чанк 70 из 80, размер чанка 100\n"
     ]
    },
    {
     "name": "stderr",
     "output_type": "stream",
     "text": [
      "  0%|                                                                                          | 0/100 [00:00<?, ?it/s][23:45:35] WARNING: not removing hydrogen atom without neighbors\n",
      "[23:45:35] WARNING: not removing hydrogen atom without neighbors\n",
      "[23:45:35] WARNING: not removing hydrogen atom without neighbors\n",
      " 29%|███████████████████████▍                                                         | 29/100 [00:04<00:09,  7.22it/s]"
     ]
    },
    {
     "name": "stdout",
     "output_type": "stream",
     "text": [
      "C:\\Anaconda\\Lib\\site-packages\\numpy\\core\\fromnumeric.py:88: RuntimeWarning: overflow encountered in reduce\n",
      "  return ufunc.reduce(obj, axis, dtype, out, **passkwargs)\n"
     ]
    },
    {
     "name": "stderr",
     "output_type": "stream",
     "text": [
      " 40%|████████████████████████████████▍                                                | 40/100 [00:07<00:12,  4.62it/s]"
     ]
    },
    {
     "name": "stdout",
     "output_type": "stream",
     "text": [
      "C:\\Anaconda\\Lib\\site-packages\\numpy\\core\\fromnumeric.py:88: RuntimeWarning: overflow encountered in reduce\n",
      "  return ufunc.reduce(obj, axis, dtype, out, **passkwargs)\n"
     ]
    },
    {
     "name": "stderr",
     "output_type": "stream",
     "text": [
      " 44%|███████████████████████████████████▋                                             | 44/100 [00:07<00:09,  5.80it/s][23:45:43] WARNING: not removing hydrogen atom without neighbors\n",
      "[23:45:43] WARNING: not removing hydrogen atom without neighbors\n",
      "[23:45:43] WARNING: not removing hydrogen atom without neighbors\n",
      " 51%|█████████████████████████████████████████▎                                       | 51/100 [00:16<00:40,  1.22it/s]"
     ]
    },
    {
     "name": "stdout",
     "output_type": "stream",
     "text": [
      "C:\\Anaconda\\Lib\\site-packages\\numpy\\core\\fromnumeric.py:88: RuntimeWarning: overflow encountered in reduce\n",
      "  return ufunc.reduce(obj, axis, dtype, out, **passkwargs)\n"
     ]
    },
    {
     "name": "stderr",
     "output_type": "stream",
     "text": [
      " 70%|████████████████████████████████████████████████████████▋                        | 70/100 [00:17<00:08,  3.73it/s][23:45:53] WARNING: not removing hydrogen atom without neighbors\n",
      "[23:45:53] WARNING: not removing hydrogen atom without neighbors\n",
      "[23:45:53] WARNING: not removing hydrogen atom without neighbors\n",
      "100%|████████████████████████████████████████████████████████████████████████████████| 100/100 [00:26<00:00,  3.79it/s]\n"
     ]
    },
    {
     "name": "stdout",
     "output_type": "stream",
     "text": [
      "Посчитан чанк 71 из 80, размер чанка 100\n"
     ]
    },
    {
     "name": "stderr",
     "output_type": "stream",
     "text": [
      " 21%|█████████████████                                                                | 21/100 [00:02<00:07, 10.45it/s][23:46:06] WARNING: not removing hydrogen atom without neighbors\n",
      "[23:46:06] WARNING: not removing hydrogen atom without neighbors\n",
      "[23:46:06] WARNING: not removing hydrogen atom without neighbors\n",
      "100%|████████████████████████████████████████████████████████████████████████████████| 100/100 [00:12<00:00,  8.04it/s]\n"
     ]
    },
    {
     "name": "stdout",
     "output_type": "stream",
     "text": [
      "Посчитан чанк 72 из 80, размер чанка 100\n"
     ]
    },
    {
     "name": "stderr",
     "output_type": "stream",
     "text": [
      " 15%|████████████▏                                                                    | 15/100 [00:02<00:10,  8.47it/s][23:46:20] WARNING: not removing hydrogen atom without neighbors\n",
      "[23:46:20] WARNING: not removing hydrogen atom without neighbors\n",
      "[23:46:20] WARNING: not removing hydrogen atom without neighbors\n",
      " 33%|██████████████████████████▋                                                      | 33/100 [00:04<00:09,  7.32it/s][23:46:22] WARNING: not removing hydrogen atom without neighbors\n",
      "[23:46:22] WARNING: not removing hydrogen atom without neighbors\n",
      "[23:46:22] WARNING: not removing hydrogen atom without neighbors\n",
      " 40%|████████████████████████████████▍                                                | 40/100 [00:04<00:05, 11.84it/s][23:46:22] WARNING: not removing hydrogen atom without neighbors\n",
      "[23:46:22] WARNING: not removing hydrogen atom without neighbors\n",
      "[23:46:22] WARNING: not removing hydrogen atom without neighbors\n",
      " 65%|████████████████████████████████████████████████████▋                            | 65/100 [00:06<00:02, 16.63it/s]"
     ]
    },
    {
     "name": "stdout",
     "output_type": "stream",
     "text": [
      "C:\\Anaconda\\Lib\\site-packages\\numpy\\core\\fromnumeric.py:88: RuntimeWarning: overflow encountered in reduce\n",
      "  return ufunc.reduce(obj, axis, dtype, out, **passkwargs)\n"
     ]
    },
    {
     "name": "stderr",
     "output_type": "stream",
     "text": [
      "100%|████████████████████████████████████████████████████████████████████████████████| 100/100 [00:14<00:00,  7.01it/s]\n"
     ]
    },
    {
     "name": "stdout",
     "output_type": "stream",
     "text": [
      "Посчитан чанк 73 из 80, размер чанка 100\n"
     ]
    },
    {
     "name": "stderr",
     "output_type": "stream",
     "text": [
      "  0%|                                                                                          | 0/100 [00:00<?, ?it/s][23:46:33] WARNING: not removing hydrogen atom without neighbors\n",
      "[23:46:33] WARNING: not removing hydrogen atom without neighbors\n",
      "[23:46:33] WARNING: not removing hydrogen atom without neighbors\n",
      " 13%|██████████▌                                                                      | 13/100 [00:02<00:11,  7.35it/s][23:46:35] WARNING: not removing hydrogen atom without neighbors\n",
      "[23:46:35] WARNING: not removing hydrogen atom without neighbors\n",
      "[23:46:35] WARNING: not removing hydrogen atom without neighbors\n",
      " 19%|███████████████▍                                                                 | 19/100 [00:02<00:10,  7.81it/s][23:46:36] WARNING: not removing hydrogen atom without neighbors\n",
      "[23:46:36] WARNING: not removing hydrogen atom without neighbors\n",
      "[23:46:36] WARNING: not removing hydrogen atom without neighbors\n",
      " 30%|████████████████████████▎                                                        | 30/100 [00:03<00:06, 10.41it/s][23:46:37] WARNING: not removing hydrogen atom without neighbors\n",
      "[23:46:37] WARNING: not removing hydrogen atom without neighbors\n",
      "[23:46:37] WARNING: not removing hydrogen atom without neighbors\n",
      "100%|████████████████████████████████████████████████████████████████████████████████| 100/100 [00:14<00:00,  7.09it/s]\n"
     ]
    },
    {
     "name": "stdout",
     "output_type": "stream",
     "text": [
      "Посчитан чанк 74 из 80, размер чанка 100\n"
     ]
    },
    {
     "name": "stderr",
     "output_type": "stream",
     "text": [
      " 19%|███████████████▍                                                                 | 19/100 [00:02<00:09,  8.76it/s][23:46:51] WARNING: not removing hydrogen atom without neighbors\n",
      "[23:46:51] WARNING: not removing hydrogen atom without neighbors\n",
      "[23:46:51] WARNING: not removing hydrogen atom without neighbors\n",
      " 29%|███████████████████████▍                                                         | 29/100 [00:03<00:04, 14.30it/s][23:46:51] WARNING: not removing hydrogen atom without neighbors\n",
      "[23:46:51] WARNING: not removing hydrogen atom without neighbors\n",
      "[23:46:51] WARNING: not removing hydrogen atom without neighbors\n",
      " 39%|███████████████████████████████▌                                                 | 39/100 [00:03<00:04, 12.39it/s]"
     ]
    },
    {
     "name": "stdout",
     "output_type": "stream",
     "text": [
      "C:\\Anaconda\\Lib\\site-packages\\numpy\\core\\fromnumeric.py:88: RuntimeWarning: overflow encountered in reduce\n",
      "  return ufunc.reduce(obj, axis, dtype, out, **passkwargs)\n"
     ]
    },
    {
     "name": "stderr",
     "output_type": "stream",
     "text": [
      "100%|████████████████████████████████████████████████████████████████████████████████| 100/100 [00:09<00:00, 10.73it/s]\n"
     ]
    },
    {
     "name": "stdout",
     "output_type": "stream",
     "text": [
      "Посчитан чанк 75 из 80, размер чанка 100\n"
     ]
    },
    {
     "name": "stderr",
     "output_type": "stream",
     "text": [
      " 18%|██████████████▌                                                                  | 18/100 [00:02<00:07, 10.84it/s]"
     ]
    },
    {
     "name": "stdout",
     "output_type": "stream",
     "text": [
      "C:\\Anaconda\\Lib\\site-packages\\numpy\\core\\fromnumeric.py:88: RuntimeWarning: overflow encountered in reduce\n",
      "  return ufunc.reduce(obj, axis, dtype, out, **passkwargs)\n"
     ]
    },
    {
     "name": "stderr",
     "output_type": "stream",
     "text": [
      " 79%|███████████████████████████████████████████████████████████████▉                 | 79/100 [00:11<00:04,  4.66it/s][23:47:10] WARNING: not removing hydrogen atom without neighbors\n",
      "[23:47:10] WARNING: not removing hydrogen atom without neighbors\n",
      "[23:47:10] WARNING: not removing hydrogen atom without neighbors\n",
      "100%|████████████████████████████████████████████████████████████████████████████████| 100/100 [00:15<00:00,  6.34it/s]\n"
     ]
    },
    {
     "name": "stdout",
     "output_type": "stream",
     "text": [
      "Посчитан чанк 76 из 80, размер чанка 100\n"
     ]
    },
    {
     "name": "stderr",
     "output_type": "stream",
     "text": [
      "  0%|                                                                                          | 0/100 [00:00<?, ?it/s][23:47:16] WARNING: not removing hydrogen atom without neighbors\n",
      "[23:47:16] WARNING: not removing hydrogen atom without neighbors\n",
      "[23:47:16] WARNING: not removing hydrogen atom without neighbors\n",
      "[23:47:16] WARNING: not removing hydrogen atom without neighbors\n",
      "[23:47:16] WARNING: not removing hydrogen atom without neighbors\n",
      "[23:47:16] WARNING: not removing hydrogen atom without neighbors\n",
      " 27%|█████████████████████▊                                                           | 27/100 [00:03<00:04, 15.37it/s][23:47:19] WARNING: not removing hydrogen atom without neighbors\n",
      "[23:47:19] WARNING: not removing hydrogen atom without neighbors\n",
      "[23:47:19] WARNING: not removing hydrogen atom without neighbors\n",
      " 47%|██████████████████████████████████████                                           | 47/100 [00:04<00:03, 17.30it/s][23:47:21] WARNING: not removing hydrogen atom without neighbors\n",
      "[23:47:21] WARNING: not removing hydrogen atom without neighbors\n",
      "[23:47:21] WARNING: not removing hydrogen atom without neighbors\n",
      " 86%|█████████████████████████████████████████████████████████████████████▋           | 86/100 [00:10<00:04,  2.87it/s]"
     ]
    },
    {
     "name": "stdout",
     "output_type": "stream",
     "text": [
      "C:\\Anaconda\\Lib\\site-packages\\numpy\\core\\fromnumeric.py:88: RuntimeWarning: overflow encountered in reduce\n",
      "  return ufunc.reduce(obj, axis, dtype, out, **passkwargs)\n"
     ]
    },
    {
     "name": "stderr",
     "output_type": "stream",
     "text": [
      "100%|████████████████████████████████████████████████████████████████████████████████| 100/100 [00:13<00:00,  7.53it/s]\n"
     ]
    },
    {
     "name": "stdout",
     "output_type": "stream",
     "text": [
      "Посчитан чанк 77 из 80, размер чанка 100\n"
     ]
    },
    {
     "name": "stderr",
     "output_type": "stream",
     "text": [
      " 22%|█████████████████▊                                                               | 22/100 [00:02<00:05, 13.05it/s][23:47:33] WARNING: not removing hydrogen atom without neighbors\n",
      "[23:47:33] WARNING: not removing hydrogen atom without neighbors\n",
      "[23:47:33] WARNING: not removing hydrogen atom without neighbors\n",
      " 25%|████████████████████▎                                                            | 25/100 [00:02<00:04, 15.19it/s]"
     ]
    },
    {
     "name": "stdout",
     "output_type": "stream",
     "text": [
      "C:\\Anaconda\\Lib\\site-packages\\numpy\\core\\fromnumeric.py:88: RuntimeWarning: overflow encountered in reduce\n",
      "  return ufunc.reduce(obj, axis, dtype, out, **passkwargs)\n"
     ]
    },
    {
     "name": "stderr",
     "output_type": "stream",
     "text": [
      "100%|████████████████████████████████████████████████████████████████████████████████| 100/100 [00:09<00:00, 10.17it/s]\n"
     ]
    },
    {
     "name": "stdout",
     "output_type": "stream",
     "text": [
      "Посчитан чанк 78 из 80, размер чанка 100\n"
     ]
    },
    {
     "name": "stderr",
     "output_type": "stream",
     "text": [
      "100%|██████████████████████████████████████████████████████████████████████████████████| 39/39 [00:04<00:00,  8.50it/s]\n"
     ]
    },
    {
     "name": "stdout",
     "output_type": "stream",
     "text": [
      "Посчитан чанк 79 из 80, размер чанка 100\n",
      "CPU times: total: 1min 7s\n",
      "Wall time: 14min 56s\n"
     ]
    }
   ],
   "source": [
    "%%time\n",
    "\n",
    "chunk_size = 100\n",
    "num_chunks = len(df_orig) // chunk_size + 1\n",
    "mordred_descs = []\n",
    "for i in range(0, num_chunks):\n",
    "    mordred_descs.append(calc.pandas(df_orig.nmol[chunk_size*i : chunk_size*(i + 1)]))\n",
    "    print(f\"Посчитан чанк {i} из {num_chunks}, размер чанка {chunk_size}\")\n",
    "mordred_desc = pd.concat(mordred_descs)"
   ]
  },
  {
   "cell_type": "code",
   "execution_count": 15,
   "id": "f8a3ab89-067e-4a2a-a256-7aaf43603ec4",
   "metadata": {
    "scrolled": true
   },
   "outputs": [
    {
     "data": {
      "text/plain": [
       "<bound method NDFrame.head of       property1  property2  property3  \\\n",
       "0           1.0        NaN        NaN   \n",
       "1           0.0        NaN        NaN   \n",
       "2           1.0        NaN        NaN   \n",
       "3           1.0        NaN        NaN   \n",
       "4           1.0        NaN        NaN   \n",
       "...         ...        ...        ...   \n",
       "7934        NaN        NaN        1.0   \n",
       "7935        NaN        NaN        1.0   \n",
       "7936        NaN        NaN        1.0   \n",
       "7937        NaN        NaN        1.0   \n",
       "7938        NaN        NaN        1.0   \n",
       "\n",
       "                                                    ABC  \\\n",
       "0     module 'numpy' has no attribute 'float'.\\n`np....   \n",
       "1     module 'numpy' has no attribute 'float'.\\n`np....   \n",
       "2     module 'numpy' has no attribute 'float'.\\n`np....   \n",
       "3     module 'numpy' has no attribute 'float'.\\n`np....   \n",
       "4     module 'numpy' has no attribute 'float'.\\n`np....   \n",
       "...                                                 ...   \n",
       "7934  module 'numpy' has no attribute 'float'.\\n`np....   \n",
       "7935  module 'numpy' has no attribute 'float'.\\n`np....   \n",
       "7936  module 'numpy' has no attribute 'float'.\\n`np....   \n",
       "7937  module 'numpy' has no attribute 'float'.\\n`np....   \n",
       "7938  module 'numpy' has no attribute 'float'.\\n`np....   \n",
       "\n",
       "                                                  ABCGG  nAcid  nBase  \\\n",
       "0     module 'numpy' has no attribute 'float'.\\n`np....      0      0   \n",
       "1     module 'numpy' has no attribute 'float'.\\n`np....      0      0   \n",
       "2     module 'numpy' has no attribute 'float'.\\n`np....      0      0   \n",
       "3     module 'numpy' has no attribute 'float'.\\n`np....      0      0   \n",
       "4     module 'numpy' has no attribute 'float'.\\n`np....      0      0   \n",
       "...                                                 ...    ...    ...   \n",
       "7934  module 'numpy' has no attribute 'float'.\\n`np....      0      0   \n",
       "7935  module 'numpy' has no attribute 'float'.\\n`np....      1      2   \n",
       "7936  module 'numpy' has no attribute 'float'.\\n`np....      1      1   \n",
       "7937  module 'numpy' has no attribute 'float'.\\n`np....      0      0   \n",
       "7938  module 'numpy' has no attribute 'float'.\\n`np....      0      0   \n",
       "\n",
       "        SpAbs_A   SpMax_A  SpDiam_A  ...      SRW10      TSRW10          MW  \\\n",
       "0     31.449179  2.607123  5.214247  ...  10.542838   58.689897  301.110279   \n",
       "1     68.986805  2.703846  5.287332  ...  11.433677  106.317006  646.116486   \n",
       "2     12.806544  2.074313  4.148627  ...   8.213653   38.726083  157.059974   \n",
       "3     11.945822  2.267184  4.534368  ...   8.912069   39.310842  138.017775   \n",
       "4     23.580101  2.331667  4.663334  ...   9.479527   51.289458  264.122240   \n",
       "...         ...       ...       ...  ...        ...         ...         ...   \n",
       "7934  20.566611  2.480613  4.961227  ...   9.947839   50.301872  274.950061   \n",
       "7935  34.049364  2.514721  4.847757  ...  10.212038   78.369416  398.137239   \n",
       "7936   31.11871  2.340051  4.576553  ...   9.762673   71.444395  322.142976   \n",
       "7937  36.251368  2.543817  5.087633  ...  10.444095   63.734766  382.189257   \n",
       "7938  25.953405  2.332897  4.665794  ...   9.581421   53.826731  295.091669   \n",
       "\n",
       "            AMW WPath WPol Zagreb1 Zagreb2   mZagreb1   mZagreb2  \n",
       "0      7.923955   970   48   136.0   172.0   5.861111   4.861111  \n",
       "1      9.501713  8149  118   312.0   407.0  13.388889  10.305556  \n",
       "2      8.725554   188   10    42.0    42.0   5.472222   2.833333  \n",
       "3     11.501481   116   12    46.0    51.0   4.333333   2.361111  \n",
       "4      7.546350   778   26    86.0    96.0   7.805556   4.638889  \n",
       "...         ...   ...  ...     ...     ...        ...        ...  \n",
       "7934  13.747503   460   30    90.0   108.0   7.638889   3.666667  \n",
       "7935   8.125250  1993   43   142.0   169.0  10.472222   5.888889  \n",
       "7936   7.670071  1597   30   120.0   135.0   6.666667   5.361111  \n",
       "7937   7.077579  1854   54   146.0   179.0  10.722222   6.583333  \n",
       "7938   8.679167  1048   29    96.0   107.0   8.916667   5.000000  \n",
       "\n",
       "[7939 rows x 1829 columns]>"
      ]
     },
     "execution_count": 15,
     "metadata": {},
     "output_type": "execute_result"
    }
   ],
   "source": [
    "df_orig['property1'] = df_orig.apply(lambda row: row['Y'] if row['property'] == 1 else None, axis=1)\n",
    "df_orig['property2'] = df_orig.apply(lambda row: row['Y'] if row['property'] == 2 else None, axis=1)\n",
    "df_orig['property3'] = df_orig.apply(lambda row: row['Y'] if row['property'] == 3 else None, axis=1)\n",
    "\n",
    "\n",
    "df_original = df_orig[['property1','property2','property3']]\n",
    "\n",
    "\n",
    "df = pd.concat([df_original, mordred_desc], axis=1)\n",
    "df.head"
   ]
  },
  {
   "cell_type": "code",
   "execution_count": 17,
   "id": "9eabad78-704c-438d-9ee8-17e1f5c56d68",
   "metadata": {},
   "outputs": [],
   "source": [
    "df_cleaned1 = df.dropna(subset=['property1'])\n",
    "df_cleaned1 = df_cleaned1.drop(columns=['property2', 'property3'])\n",
    "\n",
    "df_cleaned2 = df.dropna(subset=['property2'])\n",
    "df_cleaned2 = df_cleaned2.drop(columns=['property1', 'property3'])\n",
    "\n",
    "df_cleaned3 = df.dropna(subset=['property3'])\n",
    "df_cleaned3 = df_cleaned3.drop(columns=['property1', 'property2'])\n",
    "\n",
    "correlation_matrix1 = df_cleaned1.corr()\n",
    "correlation_matrix2 = df_cleaned2.corr()\n",
    "correlation_matrix3 = df_cleaned3.corr()"
   ]
  },
  {
   "cell_type": "code",
   "execution_count": 361,
   "id": "ecae2034-bd1f-49fc-b639-4e537444b972",
   "metadata": {},
   "outputs": [],
   "source": [
    "threshold = 0.6\n",
    "correlation_matrix1 = correlation_matrix1.iloc[:, :1]\n",
    "correlation_matrix2 = correlation_matrix2.iloc[:, :1]\n",
    "correlation_matrix3 = correlation_matrix3.iloc[:, :1]\n",
    "\n",
    "# Функция для фильтрации\n",
    "def filter_corr_matrix(corr_matrix, threshold):\n",
    "    # Создаем маску, игнорируя диагональ (чтобы она не влияла на фильтрацию)\n",
    "    mask = corr_matrix.copy()\n",
    "\n",
    "    # Определяем строки и столбцы с хотя бы одним значением ≥ порога\n",
    "    rows_to_keep = (mask.abs() >= threshold).any(axis=1)\n",
    "    cols_to_keep = (mask.abs() >= threshold).any(axis=0)\n",
    "    \n",
    "    # Фильтруем матрицу\n",
    "    filtered = corr_matrix.loc[rows_to_keep, cols_to_keep]\n",
    "    \n",
    "    # Заменяем значения < порога на NaN (оставляем только значимые)\n",
    "    filtered = filtered.where(filtered.abs() >= threshold)\n",
    "    \n",
    "    \n",
    "    return filtered\n",
    "\n",
    "\n",
    "filtered_correlation_matrix1 = filter_corr_matrix(correlation_matrix1, threshold)\n",
    "filtered_correlation_matrix2 = filter_corr_matrix(correlation_matrix2, threshold)\n",
    "filtered_correlation_matrix3 = filter_corr_matrix(correlation_matrix3, threshold)"
   ]
  },
  {
   "cell_type": "code",
   "execution_count": 336,
   "id": "ed15befb-9924-4300-bfbb-63264f82d2f4",
   "metadata": {
    "scrolled": true
   },
   "outputs": [
    {
     "data": {
      "image/png": "[encoded data removed]",
      "text/plain": [
       "<Figure size 200x400 with 2 Axes>"
      ]
     },
     "metadata": {},
     "output_type": "display_data"
    }
   ],
   "source": [
    "plt.figure(figsize=(2, 4))\n",
    "sns.heatmap(filtered_correlation_matrix1, annot=True, cmap='coolwarm', fmt=\".2f\")\n",
    "plt.title('Отфильтрованная матрица корреляции для первых трех столбцов')\n",
    "plt.show()"
   ]
  },
  {
   "cell_type": "code",
   "execution_count": 338,
   "id": "e07d0506-6f62-457d-9c85-ad3e1a54ce5d",
   "metadata": {
    "scrolled": true
   },
   "outputs": [
    {
     "data": {
      "image/png": "[encoded data removed]",
      "text/plain": [
       "<Figure size 400x2000 with 2 Axes>"
      ]
     },
     "metadata": {},
     "output_type": "display_data"
    }
   ],
   "source": [
    "plt.figure(figsize=(4, 20))\n",
    "sns.heatmap(filtered_correlation_matrix2, annot=True, cmap='coolwarm', fmt=\".2f\")\n",
    "plt.title('Отфильтрованная матрица корреляции для первых трех столбцов')\n",
    "plt.show()"
   ]
  },
  {
   "cell_type": "code",
   "execution_count": 327,
   "id": "e96273d5-7d2a-411d-9a2e-0629394be9d9",
   "metadata": {},
   "outputs": [
    {
     "data": {
      "image/png": "[encoded data removed]",
      "text/plain": [
       "<Figure size 400x800 with 2 Axes>"
      ]
     },
     "metadata": {},
     "output_type": "display_data"
    }
   ],
   "source": [
    "plt.figure(figsize=(4, 8))\n",
    "sns.heatmap(filtered_correlation_matrix3, annot=True, cmap='coolwarm', fmt=\".2f\")\n",
    "plt.title('Отфильтрованная матрица корреляции для первых трех столбцов')\n",
    "plt.show()"
   ]
  },
  {
   "cell_type": "code",
   "execution_count": 340,
   "id": "cf47bb7d-59b0-428d-a359-d79af22e48c1",
   "metadata": {},
   "outputs": [
    {
     "name": "stdout",
     "output_type": "stream",
     "text": [
      "Количество строк, где значения в столбце 'property1' не равны NaN: 5094\n",
      "Количество строк, где значения в столбце 'property2' не равны NaN: 1424\n",
      "Количество строк, где значения в столбце 'property3' не равны NaN: 1421\n",
      "Количество строк, где значения в столбце 'Drug' не равны NaN: 7939\n"
     ]
    }
   ],
   "source": [
    "count_non_null_A = df_original['property1'].notna().sum()\n",
    "count_non_null_B = df_original['property2'].notna().sum()\n",
    "count_non_null_C = df_original['property3'].notna().sum()\n",
    "\n",
    "count_non_null_D = df_orig['Drug'].notna().sum()\n",
    "\n",
    "print(f\"Количество строк, где значения в столбце 'property1' не равны NaN: {count_non_null_A}\")\n",
    "print(f\"Количество строк, где значения в столбце 'property2' не равны NaN: {count_non_null_B}\")\n",
    "print(f\"Количество строк, где значения в столбце 'property3' не равны NaN: {count_non_null_C}\")\n",
    "print(f\"Количество строк, где значения в столбце 'Drug' не равны NaN: {count_non_null_D}\")"
   ]
  },
  {
   "cell_type": "code",
   "execution_count": null,
   "id": "d912b359-e965-48d2-8c34-7e9f6aea4863",
   "metadata": {},
   "outputs": [],
   "source": [
    "df_original.head"
   ]
  },
  {
   "cell_type": "code",
   "execution_count": null,
   "id": "b787a5aa-d612-4f28-9ba6-dd869d14f00f",
   "metadata": {},
   "outputs": [],
   "source": [
    "filtered_correlation_matrix2 = correlation_matrix2[\n",
    "    (correlation_matrix2.abs() >= threshold).any(axis=1)\n",
    "]\n",
    "filtered_correlation_matrix3 = correlation_matrix3[\n",
    "    (correlation_matrix3.abs() >= threshold).any(axis=1)\n",
    "]\n",
    "\n",
    "filtered_correlation_matrix2 = filtered_correlation_matrix2.loc[\n",
    "    :, (filtered_correlation_matrix2.abs() >= threshold).any(axis=0)\n",
    "]\n",
    "filtered_correlation_matrix3 = filtered_correlation_matrix3.loc[\n",
    "    :, (filtered_correlation_matrix3.abs() >= threshold).any(axis=0)\n",
    "]\n",
    "\n",
    "if not filtered_correlation_matrix2.empty:\n",
    "    filtered_correlation_matrix2 = filtered_correlation_matrix2.iloc[:, :1]\n",
    "if not filtered_correlation_matrix3.empty:\n",
    "    filtered_correlation_matrix3 = filtered_correlation_matrix3.iloc[:, :1]"
   ]
  },
  {
   "cell_type": "code",
   "execution_count": 342,
   "id": "c4aae5be-c179-4985-acbf-0a09c0d938d7",
   "metadata": {},
   "outputs": [
    {
     "data": {
      "text/html": [
       "<div>\n",
       "<style scoped>\n",
       "    .dataframe tbody tr th:only-of-type {\n",
       "        vertical-align: middle;\n",
       "    }\n",
       "\n",
       "    .dataframe tbody tr th {\n",
       "        vertical-align: top;\n",
       "    }\n",
       "\n",
       "    .dataframe thead th {\n",
       "        text-align: right;\n",
       "    }\n",
       "</style>\n",
       "<table border=\"1\" class=\"dataframe\">\n",
       "  <thead>\n",
       "    <tr style=\"text-align: right;\">\n",
       "      <th></th>\n",
       "      <th>property1</th>\n",
       "    </tr>\n",
       "  </thead>\n",
       "  <tbody>\n",
       "    <tr>\n",
       "      <th>property1</th>\n",
       "      <td>1.000000</td>\n",
       "    </tr>\n",
       "    <tr>\n",
       "      <th>ABC</th>\n",
       "      <td>NaN</td>\n",
       "    </tr>\n",
       "    <tr>\n",
       "      <th>ABCGG</th>\n",
       "      <td>NaN</td>\n",
       "    </tr>\n",
       "    <tr>\n",
       "      <th>nAcid</th>\n",
       "      <td>-0.131553</td>\n",
       "    </tr>\n",
       "    <tr>\n",
       "      <th>nBase</th>\n",
       "      <td>-0.061378</td>\n",
       "    </tr>\n",
       "    <tr>\n",
       "      <th>...</th>\n",
       "      <td>...</td>\n",
       "    </tr>\n",
       "    <tr>\n",
       "      <th>WPol</th>\n",
       "      <td>0.059261</td>\n",
       "    </tr>\n",
       "    <tr>\n",
       "      <th>Zagreb1</th>\n",
       "      <td>0.055822</td>\n",
       "    </tr>\n",
       "    <tr>\n",
       "      <th>Zagreb2</th>\n",
       "      <td>0.070144</td>\n",
       "    </tr>\n",
       "    <tr>\n",
       "      <th>mZagreb1</th>\n",
       "      <td>-0.087541</td>\n",
       "    </tr>\n",
       "    <tr>\n",
       "      <th>mZagreb2</th>\n",
       "      <td>0.004264</td>\n",
       "    </tr>\n",
       "  </tbody>\n",
       "</table>\n",
       "<p>1827 rows × 1 columns</p>\n",
       "</div>"
      ],
      "text/plain": [
       "           property1\n",
       "property1   1.000000\n",
       "ABC              NaN\n",
       "ABCGG            NaN\n",
       "nAcid      -0.131553\n",
       "nBase      -0.061378\n",
       "...              ...\n",
       "WPol        0.059261\n",
       "Zagreb1     0.055822\n",
       "Zagreb2     0.070144\n",
       "mZagreb1   -0.087541\n",
       "mZagreb2    0.004264\n",
       "\n",
       "[1827 rows x 1 columns]"
      ]
     },
     "execution_count": 342,
     "metadata": {},
     "output_type": "execute_result"
    }
   ],
   "source": [
    "correlation_matrix1"
   ]
  },
  {
   "cell_type": "code",
   "execution_count": 344,
   "id": "cfc67b1a-c369-4950-a25f-0f1badb7e57e",
   "metadata": {},
   "outputs": [],
   "source": [
    "from sklearn.model_selection import train_test_split\n",
    "from sklearn.preprocessing import StandardScaler\n",
    "from sklearn.metrics import accuracy_score, f1_score\n",
    "from sklearn.naive_bayes import GaussianNB\n",
    "from sklearn.linear_model import LogisticRegression\n",
    "from sklearn.neighbors import KNeighborsClassifier\n",
    "from sklearn.svm import SVC\n",
    "from sklearn.tree import DecisionTreeClassifier"
   ]
  },
  {
   "cell_type": "code",
   "execution_count": 365,
   "id": "9d23311a-19ae-4284-878d-49bfe4b7975d",
   "metadata": {},
   "outputs": [
    {
     "name": "stdout",
     "output_type": "stream",
     "text": [
      "['property3', 'MAXtCH', 'MAXdNH', 'MAXtN', 'MAXssssN', 'MINtCH', 'MINdNH', 'MINtN', 'MINssssN', 'MINaaS']\n"
     ]
    }
   ],
   "source": [
    "row_names = filtered_correlation_matrix3.index.tolist()\n",
    "print(row_names)"
   ]
  },
  {
   "cell_type": "code",
   "execution_count": 481,
   "id": "7c6073d5-c807-49b1-a385-336ec25709fe",
   "metadata": {},
   "outputs": [
    {
     "name": "stdout",
     "output_type": "stream",
     "text": [
      "      WPol                                     MAXtCH  \\\n",
      "0       48  max() iterable argument is empty (MAXtCH)   \n",
      "1      118  max() iterable argument is empty (MAXtCH)   \n",
      "2       10  max() iterable argument is empty (MAXtCH)   \n",
      "3       12  max() iterable argument is empty (MAXtCH)   \n",
      "4       26  max() iterable argument is empty (MAXtCH)   \n",
      "...    ...                                        ...   \n",
      "7934    30  max() iterable argument is empty (MAXtCH)   \n",
      "7935    43  max() iterable argument is empty (MAXtCH)   \n",
      "7936    30  max() iterable argument is empty (MAXtCH)   \n",
      "7937    54  max() iterable argument is empty (MAXtCH)   \n",
      "7938    29  max() iterable argument is empty (MAXtCH)   \n",
      "\n",
      "                                         MAXdNH  \\\n",
      "0     max() iterable argument is empty (MAXdNH)   \n",
      "1     max() iterable argument is empty (MAXdNH)   \n",
      "2     max() iterable argument is empty (MAXdNH)   \n",
      "3     max() iterable argument is empty (MAXdNH)   \n",
      "4     max() iterable argument is empty (MAXdNH)   \n",
      "...                                         ...   \n",
      "7934  max() iterable argument is empty (MAXdNH)   \n",
      "7935  max() iterable argument is empty (MAXdNH)   \n",
      "7936  max() iterable argument is empty (MAXdNH)   \n",
      "7937  max() iterable argument is empty (MAXdNH)   \n",
      "7938  max() iterable argument is empty (MAXdNH)   \n",
      "\n",
      "                                         MAXtN  \\\n",
      "0     max() iterable argument is empty (MAXtN)   \n",
      "1     max() iterable argument is empty (MAXtN)   \n",
      "2     max() iterable argument is empty (MAXtN)   \n",
      "3     max() iterable argument is empty (MAXtN)   \n",
      "4     max() iterable argument is empty (MAXtN)   \n",
      "...                                        ...   \n",
      "7934  max() iterable argument is empty (MAXtN)   \n",
      "7935  max() iterable argument is empty (MAXtN)   \n",
      "7936  max() iterable argument is empty (MAXtN)   \n",
      "7937  max() iterable argument is empty (MAXtN)   \n",
      "7938  max() iterable argument is empty (MAXtN)   \n",
      "\n",
      "                                         MAXssssN  \\\n",
      "0     max() iterable argument is empty (MAXssssN)   \n",
      "1     max() iterable argument is empty (MAXssssN)   \n",
      "2     max() iterable argument is empty (MAXssssN)   \n",
      "3     max() iterable argument is empty (MAXssssN)   \n",
      "4     max() iterable argument is empty (MAXssssN)   \n",
      "...                                           ...   \n",
      "7934  max() iterable argument is empty (MAXssssN)   \n",
      "7935  max() iterable argument is empty (MAXssssN)   \n",
      "7936  max() iterable argument is empty (MAXssssN)   \n",
      "7937  max() iterable argument is empty (MAXssssN)   \n",
      "7938  max() iterable argument is empty (MAXssssN)   \n",
      "\n",
      "                                         MINtCH  \\\n",
      "0     min() iterable argument is empty (MINtCH)   \n",
      "1     min() iterable argument is empty (MINtCH)   \n",
      "2     min() iterable argument is empty (MINtCH)   \n",
      "3     min() iterable argument is empty (MINtCH)   \n",
      "4     min() iterable argument is empty (MINtCH)   \n",
      "...                                         ...   \n",
      "7934  min() iterable argument is empty (MINtCH)   \n",
      "7935  min() iterable argument is empty (MINtCH)   \n",
      "7936  min() iterable argument is empty (MINtCH)   \n",
      "7937  min() iterable argument is empty (MINtCH)   \n",
      "7938  min() iterable argument is empty (MINtCH)   \n",
      "\n",
      "                                         MINdNH  \\\n",
      "0     min() iterable argument is empty (MINdNH)   \n",
      "1     min() iterable argument is empty (MINdNH)   \n",
      "2     min() iterable argument is empty (MINdNH)   \n",
      "3     min() iterable argument is empty (MINdNH)   \n",
      "4     min() iterable argument is empty (MINdNH)   \n",
      "...                                         ...   \n",
      "7934  min() iterable argument is empty (MINdNH)   \n",
      "7935  min() iterable argument is empty (MINdNH)   \n",
      "7936  min() iterable argument is empty (MINdNH)   \n",
      "7937  min() iterable argument is empty (MINdNH)   \n",
      "7938  min() iterable argument is empty (MINdNH)   \n",
      "\n",
      "                                         MINtN  \\\n",
      "0     min() iterable argument is empty (MINtN)   \n",
      "1     min() iterable argument is empty (MINtN)   \n",
      "2     min() iterable argument is empty (MINtN)   \n",
      "3     min() iterable argument is empty (MINtN)   \n",
      "4     min() iterable argument is empty (MINtN)   \n",
      "...                                        ...   \n",
      "7934  min() iterable argument is empty (MINtN)   \n",
      "7935  min() iterable argument is empty (MINtN)   \n",
      "7936  min() iterable argument is empty (MINtN)   \n",
      "7937  min() iterable argument is empty (MINtN)   \n",
      "7938  min() iterable argument is empty (MINtN)   \n",
      "\n",
      "                                         MINssssN  \\\n",
      "0     min() iterable argument is empty (MINssssN)   \n",
      "1     min() iterable argument is empty (MINssssN)   \n",
      "2     min() iterable argument is empty (MINssssN)   \n",
      "3     min() iterable argument is empty (MINssssN)   \n",
      "4     min() iterable argument is empty (MINssssN)   \n",
      "...                                           ...   \n",
      "7934  min() iterable argument is empty (MINssssN)   \n",
      "7935  min() iterable argument is empty (MINssssN)   \n",
      "7936  min() iterable argument is empty (MINssssN)   \n",
      "7937  min() iterable argument is empty (MINssssN)   \n",
      "7938  min() iterable argument is empty (MINssssN)   \n",
      "\n",
      "                                         MINaaS  \n",
      "0     min() iterable argument is empty (MINaaS)  \n",
      "1     min() iterable argument is empty (MINaaS)  \n",
      "2     min() iterable argument is empty (MINaaS)  \n",
      "3     min() iterable argument is empty (MINaaS)  \n",
      "4     min() iterable argument is empty (MINaaS)  \n",
      "...                                         ...  \n",
      "7934  min() iterable argument is empty (MINaaS)  \n",
      "7935  min() iterable argument is empty (MINaaS)  \n",
      "7936  min() iterable argument is empty (MINaaS)  \n",
      "7937  min() iterable argument is empty (MINaaS)  \n",
      "7938  min() iterable argument is empty (MINaaS)  \n",
      "\n",
      "[7939 rows x 10 columns]\n"
     ]
    }
   ],
   "source": [
    "# Удаление строк с NaN\n",
    "df_cleaned3 = df_cleaned3.dropna()\n",
    "\n",
    "# Проверка, что столбцы не пустые\n",
    "for column in df_cleaned3.columns:\n",
    "    if df_cleaned3[column].empty:\n",
    "        raise ValueError(f\"Столбец '{column}' пуст после удаления NaN значений.\")\n",
    "\n",
    "# Выборка нужных столбцов\n",
    "columns_to_keep = ['WPol','MAXtCH', 'MAXdNH', 'MAXtN', 'MAXssssN', 'MINtCH', 'MINdNH', 'MINtN', 'MINssssN', 'MINaaS']\n",
    "single_feature = df_cleaned3[columns_to_keep]\n",
    "\n",
    "# Проверка на NaN значения\n",
    "if single_feature.isnull().values.any():\n",
    "    print(\"В выбранных столбцах есть NaN значения.\")\n",
    "\n",
    "# Проверка на нулевую дисперсию\n",
    "from sklearn.feature_selection import VarianceThreshold\n",
    "\n",
    "selector = VarianceThreshold()\n",
    "X_filtered = selector.fit_transform(single_feature)\n",
    "\n",
    "# Создание нового DataFrame с отфильтрованными данными\n",
    "X_single = pd.DataFrame(X_filtered, columns=single_feature.columns[selector.get_support()])\n",
    "\n",
    "# Разделение данных\n",
    "y = df_cleaned3['property3']\n",
    "\n",
    "X_train_single, X_test_single, y_train_single, y_test_single = train_test_split(\n",
    "    X_single, y,\n",
    "    test_size=0.3,\n",
    "    random_state=42\n",
    ")\n",
    "\n",
    "print(df[columns_to_keep])"
   ]
  },
  {
   "cell_type": "code",
   "execution_count": 453,
   "id": "11e76aa9-46b9-4df7-8415-aab44c70825a",
   "metadata": {},
   "outputs": [
    {
     "data": {
      "text/html": [
       "<div>\n",
       "<style scoped>\n",
       "    .dataframe tbody tr th:only-of-type {\n",
       "        vertical-align: middle;\n",
       "    }\n",
       "\n",
       "    .dataframe tbody tr th {\n",
       "        vertical-align: top;\n",
       "    }\n",
       "\n",
       "    .dataframe thead th {\n",
       "        text-align: right;\n",
       "    }\n",
       "</style>\n",
       "<table border=\"1\" class=\"dataframe\">\n",
       "  <thead>\n",
       "    <tr style=\"text-align: right;\">\n",
       "      <th></th>\n",
       "      <th>MAXtCH</th>\n",
       "      <th>MAXdNH</th>\n",
       "      <th>MAXtN</th>\n",
       "      <th>MAXssssN</th>\n",
       "      <th>MINtCH</th>\n",
       "      <th>MINdNH</th>\n",
       "      <th>MINtN</th>\n",
       "      <th>MINssssN</th>\n",
       "      <th>MINaaS</th>\n",
       "    </tr>\n",
       "  </thead>\n",
       "  <tbody>\n",
       "    <tr>\n",
       "      <th>6518</th>\n",
       "      <td>max() iterable argument is empty (MAXtCH)</td>\n",
       "      <td>max() iterable argument is empty (MAXdNH)</td>\n",
       "      <td>max() iterable argument is empty (MAXtN)</td>\n",
       "      <td>max() iterable argument is empty (MAXssssN)</td>\n",
       "      <td>min() iterable argument is empty (MINtCH)</td>\n",
       "      <td>min() iterable argument is empty (MINdNH)</td>\n",
       "      <td>min() iterable argument is empty (MINtN)</td>\n",
       "      <td>min() iterable argument is empty (MINssssN)</td>\n",
       "      <td>min() iterable argument is empty (MINaaS)</td>\n",
       "    </tr>\n",
       "    <tr>\n",
       "      <th>6519</th>\n",
       "      <td>max() iterable argument is empty (MAXtCH)</td>\n",
       "      <td>max() iterable argument is empty (MAXdNH)</td>\n",
       "      <td>max() iterable argument is empty (MAXtN)</td>\n",
       "      <td>max() iterable argument is empty (MAXssssN)</td>\n",
       "      <td>min() iterable argument is empty (MINtCH)</td>\n",
       "      <td>min() iterable argument is empty (MINdNH)</td>\n",
       "      <td>min() iterable argument is empty (MINtN)</td>\n",
       "      <td>min() iterable argument is empty (MINssssN)</td>\n",
       "      <td>min() iterable argument is empty (MINaaS)</td>\n",
       "    </tr>\n",
       "    <tr>\n",
       "      <th>6520</th>\n",
       "      <td>max() iterable argument is empty (MAXtCH)</td>\n",
       "      <td>max() iterable argument is empty (MAXdNH)</td>\n",
       "      <td>max() iterable argument is empty (MAXtN)</td>\n",
       "      <td>max() iterable argument is empty (MAXssssN)</td>\n",
       "      <td>min() iterable argument is empty (MINtCH)</td>\n",
       "      <td>min() iterable argument is empty (MINdNH)</td>\n",
       "      <td>min() iterable argument is empty (MINtN)</td>\n",
       "      <td>min() iterable argument is empty (MINssssN)</td>\n",
       "      <td>min() iterable argument is empty (MINaaS)</td>\n",
       "    </tr>\n",
       "    <tr>\n",
       "      <th>6521</th>\n",
       "      <td>max() iterable argument is empty (MAXtCH)</td>\n",
       "      <td>max() iterable argument is empty (MAXdNH)</td>\n",
       "      <td>max() iterable argument is empty (MAXtN)</td>\n",
       "      <td>max() iterable argument is empty (MAXssssN)</td>\n",
       "      <td>min() iterable argument is empty (MINtCH)</td>\n",
       "      <td>min() iterable argument is empty (MINdNH)</td>\n",
       "      <td>min() iterable argument is empty (MINtN)</td>\n",
       "      <td>min() iterable argument is empty (MINssssN)</td>\n",
       "      <td>min() iterable argument is empty (MINaaS)</td>\n",
       "    </tr>\n",
       "    <tr>\n",
       "      <th>6522</th>\n",
       "      <td>max() iterable argument is empty (MAXtCH)</td>\n",
       "      <td>max() iterable argument is empty (MAXdNH)</td>\n",
       "      <td>max() iterable argument is empty (MAXtN)</td>\n",
       "      <td>max() iterable argument is empty (MAXssssN)</td>\n",
       "      <td>min() iterable argument is empty (MINtCH)</td>\n",
       "      <td>min() iterable argument is empty (MINdNH)</td>\n",
       "      <td>min() iterable argument is empty (MINtN)</td>\n",
       "      <td>min() iterable argument is empty (MINssssN)</td>\n",
       "      <td>min() iterable argument is empty (MINaaS)</td>\n",
       "    </tr>\n",
       "    <tr>\n",
       "      <th>...</th>\n",
       "      <td>...</td>\n",
       "      <td>...</td>\n",
       "      <td>...</td>\n",
       "      <td>...</td>\n",
       "      <td>...</td>\n",
       "      <td>...</td>\n",
       "      <td>...</td>\n",
       "      <td>...</td>\n",
       "      <td>...</td>\n",
       "    </tr>\n",
       "    <tr>\n",
       "      <th>7934</th>\n",
       "      <td>max() iterable argument is empty (MAXtCH)</td>\n",
       "      <td>max() iterable argument is empty (MAXdNH)</td>\n",
       "      <td>max() iterable argument is empty (MAXtN)</td>\n",
       "      <td>max() iterable argument is empty (MAXssssN)</td>\n",
       "      <td>min() iterable argument is empty (MINtCH)</td>\n",
       "      <td>min() iterable argument is empty (MINdNH)</td>\n",
       "      <td>min() iterable argument is empty (MINtN)</td>\n",
       "      <td>min() iterable argument is empty (MINssssN)</td>\n",
       "      <td>min() iterable argument is empty (MINaaS)</td>\n",
       "    </tr>\n",
       "    <tr>\n",
       "      <th>7935</th>\n",
       "      <td>max() iterable argument is empty (MAXtCH)</td>\n",
       "      <td>max() iterable argument is empty (MAXdNH)</td>\n",
       "      <td>max() iterable argument is empty (MAXtN)</td>\n",
       "      <td>max() iterable argument is empty (MAXssssN)</td>\n",
       "      <td>min() iterable argument is empty (MINtCH)</td>\n",
       "      <td>min() iterable argument is empty (MINdNH)</td>\n",
       "      <td>min() iterable argument is empty (MINtN)</td>\n",
       "      <td>min() iterable argument is empty (MINssssN)</td>\n",
       "      <td>min() iterable argument is empty (MINaaS)</td>\n",
       "    </tr>\n",
       "    <tr>\n",
       "      <th>7936</th>\n",
       "      <td>max() iterable argument is empty (MAXtCH)</td>\n",
       "      <td>max() iterable argument is empty (MAXdNH)</td>\n",
       "      <td>max() iterable argument is empty (MAXtN)</td>\n",
       "      <td>max() iterable argument is empty (MAXssssN)</td>\n",
       "      <td>min() iterable argument is empty (MINtCH)</td>\n",
       "      <td>min() iterable argument is empty (MINdNH)</td>\n",
       "      <td>min() iterable argument is empty (MINtN)</td>\n",
       "      <td>min() iterable argument is empty (MINssssN)</td>\n",
       "      <td>min() iterable argument is empty (MINaaS)</td>\n",
       "    </tr>\n",
       "    <tr>\n",
       "      <th>7937</th>\n",
       "      <td>max() iterable argument is empty (MAXtCH)</td>\n",
       "      <td>max() iterable argument is empty (MAXdNH)</td>\n",
       "      <td>max() iterable argument is empty (MAXtN)</td>\n",
       "      <td>max() iterable argument is empty (MAXssssN)</td>\n",
       "      <td>min() iterable argument is empty (MINtCH)</td>\n",
       "      <td>min() iterable argument is empty (MINdNH)</td>\n",
       "      <td>min() iterable argument is empty (MINtN)</td>\n",
       "      <td>min() iterable argument is empty (MINssssN)</td>\n",
       "      <td>min() iterable argument is empty (MINaaS)</td>\n",
       "    </tr>\n",
       "    <tr>\n",
       "      <th>7938</th>\n",
       "      <td>max() iterable argument is empty (MAXtCH)</td>\n",
       "      <td>max() iterable argument is empty (MAXdNH)</td>\n",
       "      <td>max() iterable argument is empty (MAXtN)</td>\n",
       "      <td>max() iterable argument is empty (MAXssssN)</td>\n",
       "      <td>min() iterable argument is empty (MINtCH)</td>\n",
       "      <td>min() iterable argument is empty (MINdNH)</td>\n",
       "      <td>min() iterable argument is empty (MINtN)</td>\n",
       "      <td>min() iterable argument is empty (MINssssN)</td>\n",
       "      <td>min() iterable argument is empty (MINaaS)</td>\n",
       "    </tr>\n",
       "  </tbody>\n",
       "</table>\n",
       "<p>1421 rows × 9 columns</p>\n",
       "</div>"
      ],
      "text/plain": [
       "                                         MAXtCH  \\\n",
       "6518  max() iterable argument is empty (MAXtCH)   \n",
       "6519  max() iterable argument is empty (MAXtCH)   \n",
       "6520  max() iterable argument is empty (MAXtCH)   \n",
       "6521  max() iterable argument is empty (MAXtCH)   \n",
       "6522  max() iterable argument is empty (MAXtCH)   \n",
       "...                                         ...   \n",
       "7934  max() iterable argument is empty (MAXtCH)   \n",
       "7935  max() iterable argument is empty (MAXtCH)   \n",
       "7936  max() iterable argument is empty (MAXtCH)   \n",
       "7937  max() iterable argument is empty (MAXtCH)   \n",
       "7938  max() iterable argument is empty (MAXtCH)   \n",
       "\n",
       "                                         MAXdNH  \\\n",
       "6518  max() iterable argument is empty (MAXdNH)   \n",
       "6519  max() iterable argument is empty (MAXdNH)   \n",
       "6520  max() iterable argument is empty (MAXdNH)   \n",
       "6521  max() iterable argument is empty (MAXdNH)   \n",
       "6522  max() iterable argument is empty (MAXdNH)   \n",
       "...                                         ...   \n",
       "7934  max() iterable argument is empty (MAXdNH)   \n",
       "7935  max() iterable argument is empty (MAXdNH)   \n",
       "7936  max() iterable argument is empty (MAXdNH)   \n",
       "7937  max() iterable argument is empty (MAXdNH)   \n",
       "7938  max() iterable argument is empty (MAXdNH)   \n",
       "\n",
       "                                         MAXtN  \\\n",
       "6518  max() iterable argument is empty (MAXtN)   \n",
       "6519  max() iterable argument is empty (MAXtN)   \n",
       "6520  max() iterable argument is empty (MAXtN)   \n",
       "6521  max() iterable argument is empty (MAXtN)   \n",
       "6522  max() iterable argument is empty (MAXtN)   \n",
       "...                                        ...   \n",
       "7934  max() iterable argument is empty (MAXtN)   \n",
       "7935  max() iterable argument is empty (MAXtN)   \n",
       "7936  max() iterable argument is empty (MAXtN)   \n",
       "7937  max() iterable argument is empty (MAXtN)   \n",
       "7938  max() iterable argument is empty (MAXtN)   \n",
       "\n",
       "                                         MAXssssN  \\\n",
       "6518  max() iterable argument is empty (MAXssssN)   \n",
       "6519  max() iterable argument is empty (MAXssssN)   \n",
       "6520  max() iterable argument is empty (MAXssssN)   \n",
       "6521  max() iterable argument is empty (MAXssssN)   \n",
       "6522  max() iterable argument is empty (MAXssssN)   \n",
       "...                                           ...   \n",
       "7934  max() iterable argument is empty (MAXssssN)   \n",
       "7935  max() iterable argument is empty (MAXssssN)   \n",
       "7936  max() iterable argument is empty (MAXssssN)   \n",
       "7937  max() iterable argument is empty (MAXssssN)   \n",
       "7938  max() iterable argument is empty (MAXssssN)   \n",
       "\n",
       "                                         MINtCH  \\\n",
       "6518  min() iterable argument is empty (MINtCH)   \n",
       "6519  min() iterable argument is empty (MINtCH)   \n",
       "6520  min() iterable argument is empty (MINtCH)   \n",
       "6521  min() iterable argument is empty (MINtCH)   \n",
       "6522  min() iterable argument is empty (MINtCH)   \n",
       "...                                         ...   \n",
       "7934  min() iterable argument is empty (MINtCH)   \n",
       "7935  min() iterable argument is empty (MINtCH)   \n",
       "7936  min() iterable argument is empty (MINtCH)   \n",
       "7937  min() iterable argument is empty (MINtCH)   \n",
       "7938  min() iterable argument is empty (MINtCH)   \n",
       "\n",
       "                                         MINdNH  \\\n",
       "6518  min() iterable argument is empty (MINdNH)   \n",
       "6519  min() iterable argument is empty (MINdNH)   \n",
       "6520  min() iterable argument is empty (MINdNH)   \n",
       "6521  min() iterable argument is empty (MINdNH)   \n",
       "6522  min() iterable argument is empty (MINdNH)   \n",
       "...                                         ...   \n",
       "7934  min() iterable argument is empty (MINdNH)   \n",
       "7935  min() iterable argument is empty (MINdNH)   \n",
       "7936  min() iterable argument is empty (MINdNH)   \n",
       "7937  min() iterable argument is empty (MINdNH)   \n",
       "7938  min() iterable argument is empty (MINdNH)   \n",
       "\n",
       "                                         MINtN  \\\n",
       "6518  min() iterable argument is empty (MINtN)   \n",
       "6519  min() iterable argument is empty (MINtN)   \n",
       "6520  min() iterable argument is empty (MINtN)   \n",
       "6521  min() iterable argument is empty (MINtN)   \n",
       "6522  min() iterable argument is empty (MINtN)   \n",
       "...                                        ...   \n",
       "7934  min() iterable argument is empty (MINtN)   \n",
       "7935  min() iterable argument is empty (MINtN)   \n",
       "7936  min() iterable argument is empty (MINtN)   \n",
       "7937  min() iterable argument is empty (MINtN)   \n",
       "7938  min() iterable argument is empty (MINtN)   \n",
       "\n",
       "                                         MINssssN  \\\n",
       "6518  min() iterable argument is empty (MINssssN)   \n",
       "6519  min() iterable argument is empty (MINssssN)   \n",
       "6520  min() iterable argument is empty (MINssssN)   \n",
       "6521  min() iterable argument is empty (MINssssN)   \n",
       "6522  min() iterable argument is empty (MINssssN)   \n",
       "...                                           ...   \n",
       "7934  min() iterable argument is empty (MINssssN)   \n",
       "7935  min() iterable argument is empty (MINssssN)   \n",
       "7936  min() iterable argument is empty (MINssssN)   \n",
       "7937  min() iterable argument is empty (MINssssN)   \n",
       "7938  min() iterable argument is empty (MINssssN)   \n",
       "\n",
       "                                         MINaaS  \n",
       "6518  min() iterable argument is empty (MINaaS)  \n",
       "6519  min() iterable argument is empty (MINaaS)  \n",
       "6520  min() iterable argument is empty (MINaaS)  \n",
       "6521  min() iterable argument is empty (MINaaS)  \n",
       "6522  min() iterable argument is empty (MINaaS)  \n",
       "...                                         ...  \n",
       "7934  min() iterable argument is empty (MINaaS)  \n",
       "7935  min() iterable argument is empty (MINaaS)  \n",
       "7936  min() iterable argument is empty (MINaaS)  \n",
       "7937  min() iterable argument is empty (MINaaS)  \n",
       "7938  min() iterable argument is empty (MINaaS)  \n",
       "\n",
       "[1421 rows x 9 columns]"
      ]
     },
     "execution_count": 453,
     "metadata": {},
     "output_type": "execute_result"
    }
   ],
   "source": [
    "# 1. Удаление строк с NaN\n",
    "single_feature = single_feature.dropna()\n",
    "\n",
    "# 2. Проверка на нулевую дисперсию\n",
    "from sklearn.feature_selection import VarianceThreshold\n",
    "selector = VarianceThreshold()\n",
    "X_filtered = selector.fit_transform(single_feature)\n",
    "\n",
    "# 3. Разделение данных\n",
    "X = pd.DataFrame(X_filtered, columns=selector.get_feature_names_out())\n",
    "y = df_cleaned3['property3']\n",
    "\n",
    "X_train, X_test, y_train, y_test = train_test_split(\n",
    "    X, y, \n",
    "    test_size=0.3, \n",
    "    random_state=42\n",
    ")\n",
    "\n",
    "# 4. Масштабирование (если нужно)\n",
    "from sklearn.preprocessing import RobustScaler\n",
    "scaler = RobustScaler()\n",
    "X_train_scaled = scaler.fit_transform(X_train)\n",
    "X_test_scaled = scaler.transform(X_test)\n",
    "single_feature"
   ]
  },
  {
   "cell_type": "code",
   "execution_count": 397,
   "id": "4bf990dc-5809-4450-862c-206d23188f5d",
   "metadata": {},
   "outputs": [
    {
     "ename": "ValueError",
     "evalue": "Input X contains NaN.\nGaussianNB does not accept missing values encoded as NaN natively. For supervised learning, you might want to consider sklearn.ensemble.HistGradientBoostingClassifier and Regressor which accept missing values encoded as NaNs natively. Alternatively, it is possible to preprocess the data, for instance by using an imputer transformer in a pipeline or drop samples with missing values. See https://scikit-learn.org/stable/modules/impute.html You can find a list of all estimators that handle NaN values at the following page: https://scikit-learn.org/stable/modules/impute.html#estimators-that-handle-nan-values",
     "output_type": "error",
     "traceback": [
      "\u001b[1;31m---------------------------------------------------------------------------\u001b[0m",
      "\u001b[1;31mValueError\u001b[0m                                Traceback (most recent call last)",
      "Cell \u001b[1;32mIn[397], line 10\u001b[0m\n\u001b[0;32m      8\u001b[0m     y_pred \u001b[38;5;241m=\u001b[39m model\u001b[38;5;241m.\u001b[39mpredict(X_test_full_scaled)\n\u001b[0;32m      9\u001b[0m \u001b[38;5;28;01melse\u001b[39;00m:\n\u001b[1;32m---> 10\u001b[0m     model\u001b[38;5;241m.\u001b[39mfit(X_train_full, y_train)\n\u001b[0;32m     11\u001b[0m     y_pred \u001b[38;5;241m=\u001b[39m model\u001b[38;5;241m.\u001b[39mpredict(X_test_full)\n\u001b[0;32m     13\u001b[0m full_metrics \u001b[38;5;241m=\u001b[39m {\n\u001b[0;32m     14\u001b[0m     \u001b[38;5;124m\"\u001b[39m\u001b[38;5;124mmodel\u001b[39m\u001b[38;5;124m\"\u001b[39m: name,\n\u001b[0;32m     15\u001b[0m     \u001b[38;5;124m\"\u001b[39m\u001b[38;5;124mdataset\u001b[39m\u001b[38;5;124m\"\u001b[39m: \u001b[38;5;124m\"\u001b[39m\u001b[38;5;124mFull Features\u001b[39m\u001b[38;5;124m\"\u001b[39m,\n\u001b[0;32m     16\u001b[0m     \u001b[38;5;124m\"\u001b[39m\u001b[38;5;124maccuracy\u001b[39m\u001b[38;5;124m\"\u001b[39m: accuracy_score(y_test, y_pred),\n\u001b[0;32m     17\u001b[0m     \u001b[38;5;124m\"\u001b[39m\u001b[38;5;124mf1\u001b[39m\u001b[38;5;124m\"\u001b[39m: f1_score(y_test, y_pred, average\u001b[38;5;241m=\u001b[39m\u001b[38;5;124m'\u001b[39m\u001b[38;5;124mweighted\u001b[39m\u001b[38;5;124m'\u001b[39m)\n\u001b[0;32m     18\u001b[0m }\n",
      "File \u001b[1;32mC:\\Anaconda\\Lib\\site-packages\\sklearn\\base.py:1473\u001b[0m, in \u001b[0;36m_fit_context.<locals>.decorator.<locals>.wrapper\u001b[1;34m(estimator, *args, **kwargs)\u001b[0m\n\u001b[0;32m   1466\u001b[0m     estimator\u001b[38;5;241m.\u001b[39m_validate_params()\n\u001b[0;32m   1468\u001b[0m \u001b[38;5;28;01mwith\u001b[39;00m config_context(\n\u001b[0;32m   1469\u001b[0m     skip_parameter_validation\u001b[38;5;241m=\u001b[39m(\n\u001b[0;32m   1470\u001b[0m         prefer_skip_nested_validation \u001b[38;5;129;01mor\u001b[39;00m global_skip_validation\n\u001b[0;32m   1471\u001b[0m     )\n\u001b[0;32m   1472\u001b[0m ):\n\u001b[1;32m-> 1473\u001b[0m     \u001b[38;5;28;01mreturn\u001b[39;00m fit_method(estimator, \u001b[38;5;241m*\u001b[39margs, \u001b[38;5;241m*\u001b[39m\u001b[38;5;241m*\u001b[39mkwargs)\n",
      "File \u001b[1;32mC:\\Anaconda\\Lib\\site-packages\\sklearn\\naive_bayes.py:263\u001b[0m, in \u001b[0;36mGaussianNB.fit\u001b[1;34m(self, X, y, sample_weight)\u001b[0m\n\u001b[0;32m    240\u001b[0m \u001b[38;5;250m\u001b[39m\u001b[38;5;124;03m\"\"\"Fit Gaussian Naive Bayes according to X, y.\u001b[39;00m\n\u001b[0;32m    241\u001b[0m \n\u001b[0;32m    242\u001b[0m \u001b[38;5;124;03mParameters\u001b[39;00m\n\u001b[1;32m   (...)\u001b[0m\n\u001b[0;32m    260\u001b[0m \u001b[38;5;124;03m    Returns the instance itself.\u001b[39;00m\n\u001b[0;32m    261\u001b[0m \u001b[38;5;124;03m\"\"\"\u001b[39;00m\n\u001b[0;32m    262\u001b[0m y \u001b[38;5;241m=\u001b[39m \u001b[38;5;28mself\u001b[39m\u001b[38;5;241m.\u001b[39m_validate_data(y\u001b[38;5;241m=\u001b[39my)\n\u001b[1;32m--> 263\u001b[0m \u001b[38;5;28;01mreturn\u001b[39;00m \u001b[38;5;28mself\u001b[39m\u001b[38;5;241m.\u001b[39m_partial_fit(\n\u001b[0;32m    264\u001b[0m     X, y, np\u001b[38;5;241m.\u001b[39munique(y), _refit\u001b[38;5;241m=\u001b[39m\u001b[38;5;28;01mTrue\u001b[39;00m, sample_weight\u001b[38;5;241m=\u001b[39msample_weight\n\u001b[0;32m    265\u001b[0m )\n",
      "File \u001b[1;32mC:\\Anaconda\\Lib\\site-packages\\sklearn\\naive_bayes.py:423\u001b[0m, in \u001b[0;36mGaussianNB._partial_fit\u001b[1;34m(self, X, y, classes, _refit, sample_weight)\u001b[0m\n\u001b[0;32m    420\u001b[0m     \u001b[38;5;28mself\u001b[39m\u001b[38;5;241m.\u001b[39mclasses_ \u001b[38;5;241m=\u001b[39m \u001b[38;5;28;01mNone\u001b[39;00m\n\u001b[0;32m    422\u001b[0m first_call \u001b[38;5;241m=\u001b[39m _check_partial_fit_first_call(\u001b[38;5;28mself\u001b[39m, classes)\n\u001b[1;32m--> 423\u001b[0m X, y \u001b[38;5;241m=\u001b[39m \u001b[38;5;28mself\u001b[39m\u001b[38;5;241m.\u001b[39m_validate_data(X, y, reset\u001b[38;5;241m=\u001b[39mfirst_call)\n\u001b[0;32m    424\u001b[0m \u001b[38;5;28;01mif\u001b[39;00m sample_weight \u001b[38;5;129;01mis\u001b[39;00m \u001b[38;5;129;01mnot\u001b[39;00m \u001b[38;5;28;01mNone\u001b[39;00m:\n\u001b[0;32m    425\u001b[0m     sample_weight \u001b[38;5;241m=\u001b[39m _check_sample_weight(sample_weight, X)\n",
      "File \u001b[1;32mC:\\Anaconda\\Lib\\site-packages\\sklearn\\base.py:650\u001b[0m, in \u001b[0;36mBaseEstimator._validate_data\u001b[1;34m(self, X, y, reset, validate_separately, cast_to_ndarray, **check_params)\u001b[0m\n\u001b[0;32m    648\u001b[0m         y \u001b[38;5;241m=\u001b[39m check_array(y, input_name\u001b[38;5;241m=\u001b[39m\u001b[38;5;124m\"\u001b[39m\u001b[38;5;124my\u001b[39m\u001b[38;5;124m\"\u001b[39m, \u001b[38;5;241m*\u001b[39m\u001b[38;5;241m*\u001b[39mcheck_y_params)\n\u001b[0;32m    649\u001b[0m     \u001b[38;5;28;01melse\u001b[39;00m:\n\u001b[1;32m--> 650\u001b[0m         X, y \u001b[38;5;241m=\u001b[39m check_X_y(X, y, \u001b[38;5;241m*\u001b[39m\u001b[38;5;241m*\u001b[39mcheck_params)\n\u001b[0;32m    651\u001b[0m     out \u001b[38;5;241m=\u001b[39m X, y\n\u001b[0;32m    653\u001b[0m \u001b[38;5;28;01mif\u001b[39;00m \u001b[38;5;129;01mnot\u001b[39;00m no_val_X \u001b[38;5;129;01mand\u001b[39;00m check_params\u001b[38;5;241m.\u001b[39mget(\u001b[38;5;124m\"\u001b[39m\u001b[38;5;124mensure_2d\u001b[39m\u001b[38;5;124m\"\u001b[39m, \u001b[38;5;28;01mTrue\u001b[39;00m):\n",
      "File \u001b[1;32mC:\\Anaconda\\Lib\\site-packages\\sklearn\\utils\\validation.py:1301\u001b[0m, in \u001b[0;36mcheck_X_y\u001b[1;34m(X, y, accept_sparse, accept_large_sparse, dtype, order, copy, force_writeable, force_all_finite, ensure_2d, allow_nd, multi_output, ensure_min_samples, ensure_min_features, y_numeric, estimator)\u001b[0m\n\u001b[0;32m   1296\u001b[0m         estimator_name \u001b[38;5;241m=\u001b[39m _check_estimator_name(estimator)\n\u001b[0;32m   1297\u001b[0m     \u001b[38;5;28;01mraise\u001b[39;00m \u001b[38;5;167;01mValueError\u001b[39;00m(\n\u001b[0;32m   1298\u001b[0m         \u001b[38;5;124mf\u001b[39m\u001b[38;5;124m\"\u001b[39m\u001b[38;5;132;01m{\u001b[39;00mestimator_name\u001b[38;5;132;01m}\u001b[39;00m\u001b[38;5;124m requires y to be passed, but the target y is None\u001b[39m\u001b[38;5;124m\"\u001b[39m\n\u001b[0;32m   1299\u001b[0m     )\n\u001b[1;32m-> 1301\u001b[0m X \u001b[38;5;241m=\u001b[39m check_array(\n\u001b[0;32m   1302\u001b[0m     X,\n\u001b[0;32m   1303\u001b[0m     accept_sparse\u001b[38;5;241m=\u001b[39maccept_sparse,\n\u001b[0;32m   1304\u001b[0m     accept_large_sparse\u001b[38;5;241m=\u001b[39maccept_large_sparse,\n\u001b[0;32m   1305\u001b[0m     dtype\u001b[38;5;241m=\u001b[39mdtype,\n\u001b[0;32m   1306\u001b[0m     order\u001b[38;5;241m=\u001b[39morder,\n\u001b[0;32m   1307\u001b[0m     copy\u001b[38;5;241m=\u001b[39mcopy,\n\u001b[0;32m   1308\u001b[0m     force_writeable\u001b[38;5;241m=\u001b[39mforce_writeable,\n\u001b[0;32m   1309\u001b[0m     force_all_finite\u001b[38;5;241m=\u001b[39mforce_all_finite,\n\u001b[0;32m   1310\u001b[0m     ensure_2d\u001b[38;5;241m=\u001b[39mensure_2d,\n\u001b[0;32m   1311\u001b[0m     allow_nd\u001b[38;5;241m=\u001b[39mallow_nd,\n\u001b[0;32m   1312\u001b[0m     ensure_min_samples\u001b[38;5;241m=\u001b[39mensure_min_samples,\n\u001b[0;32m   1313\u001b[0m     ensure_min_features\u001b[38;5;241m=\u001b[39mensure_min_features,\n\u001b[0;32m   1314\u001b[0m     estimator\u001b[38;5;241m=\u001b[39mestimator,\n\u001b[0;32m   1315\u001b[0m     input_name\u001b[38;5;241m=\u001b[39m\u001b[38;5;124m\"\u001b[39m\u001b[38;5;124mX\u001b[39m\u001b[38;5;124m\"\u001b[39m,\n\u001b[0;32m   1316\u001b[0m )\n\u001b[0;32m   1318\u001b[0m y \u001b[38;5;241m=\u001b[39m _check_y(y, multi_output\u001b[38;5;241m=\u001b[39mmulti_output, y_numeric\u001b[38;5;241m=\u001b[39my_numeric, estimator\u001b[38;5;241m=\u001b[39mestimator)\n\u001b[0;32m   1320\u001b[0m check_consistent_length(X, y)\n",
      "File \u001b[1;32mC:\\Anaconda\\Lib\\site-packages\\sklearn\\utils\\validation.py:1064\u001b[0m, in \u001b[0;36mcheck_array\u001b[1;34m(array, accept_sparse, accept_large_sparse, dtype, order, copy, force_writeable, force_all_finite, ensure_2d, allow_nd, ensure_min_samples, ensure_min_features, estimator, input_name)\u001b[0m\n\u001b[0;32m   1058\u001b[0m     \u001b[38;5;28;01mraise\u001b[39;00m \u001b[38;5;167;01mValueError\u001b[39;00m(\n\u001b[0;32m   1059\u001b[0m         \u001b[38;5;124m\"\u001b[39m\u001b[38;5;124mFound array with dim \u001b[39m\u001b[38;5;132;01m%d\u001b[39;00m\u001b[38;5;124m. \u001b[39m\u001b[38;5;132;01m%s\u001b[39;00m\u001b[38;5;124m expected <= 2.\u001b[39m\u001b[38;5;124m\"\u001b[39m\n\u001b[0;32m   1060\u001b[0m         \u001b[38;5;241m%\u001b[39m (array\u001b[38;5;241m.\u001b[39mndim, estimator_name)\n\u001b[0;32m   1061\u001b[0m     )\n\u001b[0;32m   1063\u001b[0m \u001b[38;5;28;01mif\u001b[39;00m force_all_finite:\n\u001b[1;32m-> 1064\u001b[0m     _assert_all_finite(\n\u001b[0;32m   1065\u001b[0m         array,\n\u001b[0;32m   1066\u001b[0m         input_name\u001b[38;5;241m=\u001b[39minput_name,\n\u001b[0;32m   1067\u001b[0m         estimator_name\u001b[38;5;241m=\u001b[39mestimator_name,\n\u001b[0;32m   1068\u001b[0m         allow_nan\u001b[38;5;241m=\u001b[39mforce_all_finite \u001b[38;5;241m==\u001b[39m \u001b[38;5;124m\"\u001b[39m\u001b[38;5;124mallow-nan\u001b[39m\u001b[38;5;124m\"\u001b[39m,\n\u001b[0;32m   1069\u001b[0m     )\n\u001b[0;32m   1071\u001b[0m \u001b[38;5;28;01mif\u001b[39;00m copy:\n\u001b[0;32m   1072\u001b[0m     \u001b[38;5;28;01mif\u001b[39;00m _is_numpy_namespace(xp):\n\u001b[0;32m   1073\u001b[0m         \u001b[38;5;66;03m# only make a copy if `array` and `array_orig` may share memory`\u001b[39;00m\n",
      "File \u001b[1;32mC:\\Anaconda\\Lib\\site-packages\\sklearn\\utils\\validation.py:123\u001b[0m, in \u001b[0;36m_assert_all_finite\u001b[1;34m(X, allow_nan, msg_dtype, estimator_name, input_name)\u001b[0m\n\u001b[0;32m    120\u001b[0m \u001b[38;5;28;01mif\u001b[39;00m first_pass_isfinite:\n\u001b[0;32m    121\u001b[0m     \u001b[38;5;28;01mreturn\u001b[39;00m\n\u001b[1;32m--> 123\u001b[0m _assert_all_finite_element_wise(\n\u001b[0;32m    124\u001b[0m     X,\n\u001b[0;32m    125\u001b[0m     xp\u001b[38;5;241m=\u001b[39mxp,\n\u001b[0;32m    126\u001b[0m     allow_nan\u001b[38;5;241m=\u001b[39mallow_nan,\n\u001b[0;32m    127\u001b[0m     msg_dtype\u001b[38;5;241m=\u001b[39mmsg_dtype,\n\u001b[0;32m    128\u001b[0m     estimator_name\u001b[38;5;241m=\u001b[39mestimator_name,\n\u001b[0;32m    129\u001b[0m     input_name\u001b[38;5;241m=\u001b[39minput_name,\n\u001b[0;32m    130\u001b[0m )\n",
      "File \u001b[1;32mC:\\Anaconda\\Lib\\site-packages\\sklearn\\utils\\validation.py:172\u001b[0m, in \u001b[0;36m_assert_all_finite_element_wise\u001b[1;34m(X, xp, allow_nan, msg_dtype, estimator_name, input_name)\u001b[0m\n\u001b[0;32m    155\u001b[0m \u001b[38;5;28;01mif\u001b[39;00m estimator_name \u001b[38;5;129;01mand\u001b[39;00m input_name \u001b[38;5;241m==\u001b[39m \u001b[38;5;124m\"\u001b[39m\u001b[38;5;124mX\u001b[39m\u001b[38;5;124m\"\u001b[39m \u001b[38;5;129;01mand\u001b[39;00m has_nan_error:\n\u001b[0;32m    156\u001b[0m     \u001b[38;5;66;03m# Improve the error message on how to handle missing values in\u001b[39;00m\n\u001b[0;32m    157\u001b[0m     \u001b[38;5;66;03m# scikit-learn.\u001b[39;00m\n\u001b[0;32m    158\u001b[0m     msg_err \u001b[38;5;241m+\u001b[39m\u001b[38;5;241m=\u001b[39m (\n\u001b[0;32m    159\u001b[0m         \u001b[38;5;124mf\u001b[39m\u001b[38;5;124m\"\u001b[39m\u001b[38;5;130;01m\\n\u001b[39;00m\u001b[38;5;132;01m{\u001b[39;00mestimator_name\u001b[38;5;132;01m}\u001b[39;00m\u001b[38;5;124m does not accept missing values\u001b[39m\u001b[38;5;124m\"\u001b[39m\n\u001b[0;32m    160\u001b[0m         \u001b[38;5;124m\"\u001b[39m\u001b[38;5;124m encoded as NaN natively. For supervised learning, you might want\u001b[39m\u001b[38;5;124m\"\u001b[39m\n\u001b[1;32m   (...)\u001b[0m\n\u001b[0;32m    170\u001b[0m         \u001b[38;5;124m\"\u001b[39m\u001b[38;5;124m#estimators-that-handle-nan-values\u001b[39m\u001b[38;5;124m\"\u001b[39m\n\u001b[0;32m    171\u001b[0m     )\n\u001b[1;32m--> 172\u001b[0m \u001b[38;5;28;01mraise\u001b[39;00m \u001b[38;5;167;01mValueError\u001b[39;00m(msg_err)\n",
      "\u001b[1;31mValueError\u001b[0m: Input X contains NaN.\nGaussianNB does not accept missing values encoded as NaN natively. For supervised learning, you might want to consider sklearn.ensemble.HistGradientBoostingClassifier and Regressor which accept missing values encoded as NaNs natively. Alternatively, it is possible to preprocess the data, for instance by using an imputer transformer in a pipeline or drop samples with missing values. See https://scikit-learn.org/stable/modules/impute.html You can find a list of all estimators that handle NaN values at the following page: https://scikit-learn.org/stable/modules/impute.html#estimators-that-handle-nan-values"
     ]
    }
   ],
   "source": [
    "# 5. Обучение и оценка\n",
    "results = []\n",
    "\n",
    "for name, model in models.items():\n",
    "    # На полном наборе признаков\n",
    "    if name in [\"KNN\", \"SVM\"]:\n",
    "        model.fit(X_train_full_scaled, y_train)\n",
    "        y_pred = model.predict(X_test_full_scaled)\n",
    "    else:\n",
    "        model.fit(X_train_full, y_train)\n",
    "        y_pred = model.predict(X_test_full)\n",
    "    \n",
    "    full_metrics = {\n",
    "        \"model\": name,\n",
    "        \"dataset\": \"Full Features\",\n",
    "        \"accuracy\": accuracy_score(y_test, y_pred),\n",
    "        \"f1\": f1_score(y_test, y_pred, average='weighted')\n",
    "    }\n",
    "    results.append(full_metrics)\n",
    "    \n",
    "    # На одном признаке\n",
    "    if name in [\"KNN\", \"SVM\"]:\n",
    "        X_train_single_scaled = scaler.fit_transform(X_train_single)\n",
    "        X_test_single_scaled = scaler.transform(X_test_single)\n",
    "        model.fit(X_train_single_scaled, y_train)\n",
    "        y_pred = model.predict(X_test_single_scaled)\n",
    "    else:\n",
    "        model.fit(X_train_single, y_train)\n",
    "        y_pred = model.predict(X_test_single)\n",
    "    \n",
    "    single_metrics = {\n",
    "        \"model\": name,\n",
    "        \"dataset\": \"Single Feature\",\n",
    "        \"accuracy\": accuracy_score(y_test, y_pred),\n",
    "        \"f1\": f1_score(y_test, y_pred, average='weighted')\n",
    "    }\n",
    "    results.append(single_metrics)"
   ]
  },
  {
   "cell_type": "code",
   "execution_count": null,
   "id": "1519f586-4cbe-48b0-acbb-b668eff26d2f",
   "metadata": {},
   "outputs": [],
   "source": [
    "# 6. Анализ результатов\n",
    "results_df = pd.DataFrame(results)\n",
    "print(results_df.sort_values(by='accuracy', ascending=False))"
   ]
  }
 ],
 "metadata": {
  "kernelspec": {
   "display_name": "Python 3 (ipykernel)",
   "language": "python",
   "name": "python3"
  },
  "language_info": {
   "codemirror_mode": {
    "name": "ipython",
    "version": 3
   },
   "file_extension": ".py",
   "mimetype": "text/x-python",
   "name": "python",
   "nbconvert_exporter": "python",
   "pygments_lexer": "ipython3",
   "version": "3.12.3"
  }
 },
 "nbformat": 4,
 "nbformat_minor": 5
}
